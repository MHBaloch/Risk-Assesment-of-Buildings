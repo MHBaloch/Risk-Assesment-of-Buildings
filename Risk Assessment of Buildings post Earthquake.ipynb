{
 "cells": [
  {
   "cell_type": "markdown",
   "id": "9f0269e1",
   "metadata": {},
   "source": [
    "# RISK ASSESMENT OF BUILDINGS (POST EARTHQUAKE) THROUGH DATA ANALYSIS "
   ]
  },
  {
   "cell_type": "markdown",
   "id": "20ca66b2",
   "metadata": {},
   "source": [
    "# By Group 12 \n",
    "\n",
    "# K2143276 Muhammad Haris Baloch\n",
    "# K2152089 Dayanand Chambanna Shettar \n",
    "# K2038196 Lakshmi Avanthi Kaneti \n",
    "# K2040951 Adisekhar Nelakurthi\n",
    "\n",
    "\n",
    "\n",
    "\n",
    "\n",
    "\n",
    "\n",
    "\n",
    "\n",
    "\n",
    "\n",
    "\n",
    "\n",
    "# Table of contents\n",
    "# Chapter\t\t\t-\tTitle\t\t\t\n",
    "# 1\t          -        Reading the dataset through external source\n",
    "# 2\t           -       IDA cleaning of data set and checking for null values\n",
    "# 3\t            -      Exploratory Data Analysis\n",
    "# 4\t             -     Conclusion\n",
    "\t\n"
   ]
  },
  {
   "cell_type": "markdown",
   "id": "4b6a82e8",
   "metadata": {},
   "source": [
    "# Importing various libraries that will be used."
   ]
  },
  {
   "cell_type": "code",
   "execution_count": 101,
   "id": "c8b2341b",
   "metadata": {},
   "outputs": [],
   "source": [
    "import pandas as pd\n",
    "import csv\n",
    "import numpy as np\n",
    "import matplotlib.pyplot as plt\n",
    "import seaborn as sns\n",
    "import scipy.stats"
   ]
  },
  {
   "cell_type": "markdown",
   "id": "9d322505",
   "metadata": {},
   "source": [
    "Chapter 1 Reading the Dataset\n",
    "Chapter 2 Initial Data Analysis\n",
    "Chapter 3 Exploratory Data Analysis"
   ]
  },
  {
   "cell_type": "markdown",
   "id": "3e253b7a",
   "metadata": {},
   "source": [
    "#  Chapter 1 Reading the dataset through external source github."
   ]
  },
  {
   "cell_type": "code",
   "execution_count": 102,
   "id": "34c6af9a",
   "metadata": {},
   "outputs": [
    {
     "data": {
      "text/html": [
       "<div>\n",
       "<style scoped>\n",
       "    .dataframe tbody tr th:only-of-type {\n",
       "        vertical-align: middle;\n",
       "    }\n",
       "\n",
       "    .dataframe tbody tr th {\n",
       "        vertical-align: top;\n",
       "    }\n",
       "\n",
       "    .dataframe thead th {\n",
       "        text-align: right;\n",
       "    }\n",
       "</style>\n",
       "<table border=\"1\" class=\"dataframe\">\n",
       "  <thead>\n",
       "    <tr style=\"text-align: right;\">\n",
       "      <th></th>\n",
       "      <th>building_id</th>\n",
       "      <th>geo_level_1_id</th>\n",
       "      <th>geo_level_2_id</th>\n",
       "      <th>geo_level_3_id</th>\n",
       "      <th>count_floors_pre_eq</th>\n",
       "      <th>age</th>\n",
       "      <th>area_percentage</th>\n",
       "      <th>height_percentage</th>\n",
       "      <th>land_surface_condition</th>\n",
       "      <th>foundation_type</th>\n",
       "      <th>...</th>\n",
       "      <th>has_secondary_use_agriculture</th>\n",
       "      <th>has_secondary_use_hotel</th>\n",
       "      <th>has_secondary_use_rental</th>\n",
       "      <th>has_secondary_use_institution</th>\n",
       "      <th>has_secondary_use_school</th>\n",
       "      <th>has_secondary_use_industry</th>\n",
       "      <th>has_secondary_use_health_post</th>\n",
       "      <th>has_secondary_use_gov_office</th>\n",
       "      <th>has_secondary_use_use_police</th>\n",
       "      <th>has_secondary_use_other</th>\n",
       "    </tr>\n",
       "  </thead>\n",
       "  <tbody>\n",
       "    <tr>\n",
       "      <th>0</th>\n",
       "      <td>802906</td>\n",
       "      <td>6</td>\n",
       "      <td>487</td>\n",
       "      <td>12198</td>\n",
       "      <td>2</td>\n",
       "      <td>30</td>\n",
       "      <td>6</td>\n",
       "      <td>5</td>\n",
       "      <td>t</td>\n",
       "      <td>r</td>\n",
       "      <td>...</td>\n",
       "      <td>0</td>\n",
       "      <td>0</td>\n",
       "      <td>0</td>\n",
       "      <td>0</td>\n",
       "      <td>0</td>\n",
       "      <td>0</td>\n",
       "      <td>0</td>\n",
       "      <td>0</td>\n",
       "      <td>0</td>\n",
       "      <td>0</td>\n",
       "    </tr>\n",
       "    <tr>\n",
       "      <th>1</th>\n",
       "      <td>28830</td>\n",
       "      <td>8</td>\n",
       "      <td>900</td>\n",
       "      <td>2812</td>\n",
       "      <td>2</td>\n",
       "      <td>10</td>\n",
       "      <td>8</td>\n",
       "      <td>7</td>\n",
       "      <td>o</td>\n",
       "      <td>r</td>\n",
       "      <td>...</td>\n",
       "      <td>0</td>\n",
       "      <td>0</td>\n",
       "      <td>0</td>\n",
       "      <td>0</td>\n",
       "      <td>0</td>\n",
       "      <td>0</td>\n",
       "      <td>0</td>\n",
       "      <td>0</td>\n",
       "      <td>0</td>\n",
       "      <td>0</td>\n",
       "    </tr>\n",
       "    <tr>\n",
       "      <th>2</th>\n",
       "      <td>94947</td>\n",
       "      <td>21</td>\n",
       "      <td>363</td>\n",
       "      <td>8973</td>\n",
       "      <td>2</td>\n",
       "      <td>10</td>\n",
       "      <td>5</td>\n",
       "      <td>5</td>\n",
       "      <td>t</td>\n",
       "      <td>r</td>\n",
       "      <td>...</td>\n",
       "      <td>0</td>\n",
       "      <td>0</td>\n",
       "      <td>0</td>\n",
       "      <td>0</td>\n",
       "      <td>0</td>\n",
       "      <td>0</td>\n",
       "      <td>0</td>\n",
       "      <td>0</td>\n",
       "      <td>0</td>\n",
       "      <td>0</td>\n",
       "    </tr>\n",
       "    <tr>\n",
       "      <th>3</th>\n",
       "      <td>590882</td>\n",
       "      <td>22</td>\n",
       "      <td>418</td>\n",
       "      <td>10694</td>\n",
       "      <td>2</td>\n",
       "      <td>10</td>\n",
       "      <td>6</td>\n",
       "      <td>5</td>\n",
       "      <td>t</td>\n",
       "      <td>r</td>\n",
       "      <td>...</td>\n",
       "      <td>0</td>\n",
       "      <td>0</td>\n",
       "      <td>0</td>\n",
       "      <td>0</td>\n",
       "      <td>0</td>\n",
       "      <td>0</td>\n",
       "      <td>0</td>\n",
       "      <td>0</td>\n",
       "      <td>0</td>\n",
       "      <td>0</td>\n",
       "    </tr>\n",
       "    <tr>\n",
       "      <th>4</th>\n",
       "      <td>201944</td>\n",
       "      <td>11</td>\n",
       "      <td>131</td>\n",
       "      <td>1488</td>\n",
       "      <td>3</td>\n",
       "      <td>30</td>\n",
       "      <td>8</td>\n",
       "      <td>9</td>\n",
       "      <td>t</td>\n",
       "      <td>r</td>\n",
       "      <td>...</td>\n",
       "      <td>0</td>\n",
       "      <td>0</td>\n",
       "      <td>0</td>\n",
       "      <td>0</td>\n",
       "      <td>0</td>\n",
       "      <td>0</td>\n",
       "      <td>0</td>\n",
       "      <td>0</td>\n",
       "      <td>0</td>\n",
       "      <td>0</td>\n",
       "    </tr>\n",
       "    <tr>\n",
       "      <th>...</th>\n",
       "      <td>...</td>\n",
       "      <td>...</td>\n",
       "      <td>...</td>\n",
       "      <td>...</td>\n",
       "      <td>...</td>\n",
       "      <td>...</td>\n",
       "      <td>...</td>\n",
       "      <td>...</td>\n",
       "      <td>...</td>\n",
       "      <td>...</td>\n",
       "      <td>...</td>\n",
       "      <td>...</td>\n",
       "      <td>...</td>\n",
       "      <td>...</td>\n",
       "      <td>...</td>\n",
       "      <td>...</td>\n",
       "      <td>...</td>\n",
       "      <td>...</td>\n",
       "      <td>...</td>\n",
       "      <td>...</td>\n",
       "      <td>...</td>\n",
       "    </tr>\n",
       "    <tr>\n",
       "      <th>260596</th>\n",
       "      <td>688636</td>\n",
       "      <td>25</td>\n",
       "      <td>1335</td>\n",
       "      <td>1621</td>\n",
       "      <td>1</td>\n",
       "      <td>55</td>\n",
       "      <td>6</td>\n",
       "      <td>3</td>\n",
       "      <td>n</td>\n",
       "      <td>r</td>\n",
       "      <td>...</td>\n",
       "      <td>0</td>\n",
       "      <td>0</td>\n",
       "      <td>0</td>\n",
       "      <td>0</td>\n",
       "      <td>0</td>\n",
       "      <td>0</td>\n",
       "      <td>0</td>\n",
       "      <td>0</td>\n",
       "      <td>0</td>\n",
       "      <td>0</td>\n",
       "    </tr>\n",
       "    <tr>\n",
       "      <th>260597</th>\n",
       "      <td>669485</td>\n",
       "      <td>17</td>\n",
       "      <td>715</td>\n",
       "      <td>2060</td>\n",
       "      <td>2</td>\n",
       "      <td>0</td>\n",
       "      <td>6</td>\n",
       "      <td>5</td>\n",
       "      <td>t</td>\n",
       "      <td>r</td>\n",
       "      <td>...</td>\n",
       "      <td>0</td>\n",
       "      <td>0</td>\n",
       "      <td>0</td>\n",
       "      <td>0</td>\n",
       "      <td>0</td>\n",
       "      <td>0</td>\n",
       "      <td>0</td>\n",
       "      <td>0</td>\n",
       "      <td>0</td>\n",
       "      <td>0</td>\n",
       "    </tr>\n",
       "    <tr>\n",
       "      <th>260598</th>\n",
       "      <td>602512</td>\n",
       "      <td>17</td>\n",
       "      <td>51</td>\n",
       "      <td>8163</td>\n",
       "      <td>3</td>\n",
       "      <td>55</td>\n",
       "      <td>6</td>\n",
       "      <td>7</td>\n",
       "      <td>t</td>\n",
       "      <td>r</td>\n",
       "      <td>...</td>\n",
       "      <td>0</td>\n",
       "      <td>0</td>\n",
       "      <td>0</td>\n",
       "      <td>0</td>\n",
       "      <td>0</td>\n",
       "      <td>0</td>\n",
       "      <td>0</td>\n",
       "      <td>0</td>\n",
       "      <td>0</td>\n",
       "      <td>0</td>\n",
       "    </tr>\n",
       "    <tr>\n",
       "      <th>260599</th>\n",
       "      <td>151409</td>\n",
       "      <td>26</td>\n",
       "      <td>39</td>\n",
       "      <td>1851</td>\n",
       "      <td>2</td>\n",
       "      <td>10</td>\n",
       "      <td>14</td>\n",
       "      <td>6</td>\n",
       "      <td>t</td>\n",
       "      <td>r</td>\n",
       "      <td>...</td>\n",
       "      <td>0</td>\n",
       "      <td>0</td>\n",
       "      <td>0</td>\n",
       "      <td>0</td>\n",
       "      <td>0</td>\n",
       "      <td>0</td>\n",
       "      <td>0</td>\n",
       "      <td>0</td>\n",
       "      <td>0</td>\n",
       "      <td>0</td>\n",
       "    </tr>\n",
       "    <tr>\n",
       "      <th>260600</th>\n",
       "      <td>747594</td>\n",
       "      <td>21</td>\n",
       "      <td>9</td>\n",
       "      <td>9101</td>\n",
       "      <td>3</td>\n",
       "      <td>10</td>\n",
       "      <td>7</td>\n",
       "      <td>6</td>\n",
       "      <td>n</td>\n",
       "      <td>r</td>\n",
       "      <td>...</td>\n",
       "      <td>0</td>\n",
       "      <td>0</td>\n",
       "      <td>0</td>\n",
       "      <td>0</td>\n",
       "      <td>0</td>\n",
       "      <td>0</td>\n",
       "      <td>0</td>\n",
       "      <td>0</td>\n",
       "      <td>0</td>\n",
       "      <td>0</td>\n",
       "    </tr>\n",
       "  </tbody>\n",
       "</table>\n",
       "<p>260601 rows × 39 columns</p>\n",
       "</div>"
      ],
      "text/plain": [
       "        building_id  geo_level_1_id  geo_level_2_id  geo_level_3_id  \\\n",
       "0            802906               6             487           12198   \n",
       "1             28830               8             900            2812   \n",
       "2             94947              21             363            8973   \n",
       "3            590882              22             418           10694   \n",
       "4            201944              11             131            1488   \n",
       "...             ...             ...             ...             ...   \n",
       "260596       688636              25            1335            1621   \n",
       "260597       669485              17             715            2060   \n",
       "260598       602512              17              51            8163   \n",
       "260599       151409              26              39            1851   \n",
       "260600       747594              21               9            9101   \n",
       "\n",
       "        count_floors_pre_eq  age  area_percentage  height_percentage  \\\n",
       "0                         2   30                6                  5   \n",
       "1                         2   10                8                  7   \n",
       "2                         2   10                5                  5   \n",
       "3                         2   10                6                  5   \n",
       "4                         3   30                8                  9   \n",
       "...                     ...  ...              ...                ...   \n",
       "260596                    1   55                6                  3   \n",
       "260597                    2    0                6                  5   \n",
       "260598                    3   55                6                  7   \n",
       "260599                    2   10               14                  6   \n",
       "260600                    3   10                7                  6   \n",
       "\n",
       "       land_surface_condition foundation_type  ...  \\\n",
       "0                           t               r  ...   \n",
       "1                           o               r  ...   \n",
       "2                           t               r  ...   \n",
       "3                           t               r  ...   \n",
       "4                           t               r  ...   \n",
       "...                       ...             ...  ...   \n",
       "260596                      n               r  ...   \n",
       "260597                      t               r  ...   \n",
       "260598                      t               r  ...   \n",
       "260599                      t               r  ...   \n",
       "260600                      n               r  ...   \n",
       "\n",
       "       has_secondary_use_agriculture has_secondary_use_hotel  \\\n",
       "0                                  0                       0   \n",
       "1                                  0                       0   \n",
       "2                                  0                       0   \n",
       "3                                  0                       0   \n",
       "4                                  0                       0   \n",
       "...                              ...                     ...   \n",
       "260596                             0                       0   \n",
       "260597                             0                       0   \n",
       "260598                             0                       0   \n",
       "260599                             0                       0   \n",
       "260600                             0                       0   \n",
       "\n",
       "       has_secondary_use_rental has_secondary_use_institution  \\\n",
       "0                             0                             0   \n",
       "1                             0                             0   \n",
       "2                             0                             0   \n",
       "3                             0                             0   \n",
       "4                             0                             0   \n",
       "...                         ...                           ...   \n",
       "260596                        0                             0   \n",
       "260597                        0                             0   \n",
       "260598                        0                             0   \n",
       "260599                        0                             0   \n",
       "260600                        0                             0   \n",
       "\n",
       "       has_secondary_use_school  has_secondary_use_industry  \\\n",
       "0                             0                           0   \n",
       "1                             0                           0   \n",
       "2                             0                           0   \n",
       "3                             0                           0   \n",
       "4                             0                           0   \n",
       "...                         ...                         ...   \n",
       "260596                        0                           0   \n",
       "260597                        0                           0   \n",
       "260598                        0                           0   \n",
       "260599                        0                           0   \n",
       "260600                        0                           0   \n",
       "\n",
       "        has_secondary_use_health_post  has_secondary_use_gov_office  \\\n",
       "0                                   0                             0   \n",
       "1                                   0                             0   \n",
       "2                                   0                             0   \n",
       "3                                   0                             0   \n",
       "4                                   0                             0   \n",
       "...                               ...                           ...   \n",
       "260596                              0                             0   \n",
       "260597                              0                             0   \n",
       "260598                              0                             0   \n",
       "260599                              0                             0   \n",
       "260600                              0                             0   \n",
       "\n",
       "        has_secondary_use_use_police  has_secondary_use_other  \n",
       "0                                  0                        0  \n",
       "1                                  0                        0  \n",
       "2                                  0                        0  \n",
       "3                                  0                        0  \n",
       "4                                  0                        0  \n",
       "...                              ...                      ...  \n",
       "260596                             0                        0  \n",
       "260597                             0                        0  \n",
       "260598                             0                        0  \n",
       "260599                             0                        0  \n",
       "260600                             0                        0  \n",
       "\n",
       "[260601 rows x 39 columns]"
      ]
     },
     "execution_count": 102,
     "metadata": {},
     "output_type": "execute_result"
    }
   ],
   "source": [
    "# Reading of CSV files\n",
    "url=\"https://raw.githubusercontent.com/dayananddaya/Input-features/main/input_features.csv\"\n",
    "#url1=\"https://raw.githubusercontent.com/dayananddaya/Input-features/main/target_values.csv\"\n",
    "earthquake_df=pd.read_csv(url)\n",
    "earthquake_df\n"
   ]
  },
  {
   "cell_type": "code",
   "execution_count": 103,
   "id": "256529cb",
   "metadata": {},
   "outputs": [
    {
     "data": {
      "text/html": [
       "<div>\n",
       "<style scoped>\n",
       "    .dataframe tbody tr th:only-of-type {\n",
       "        vertical-align: middle;\n",
       "    }\n",
       "\n",
       "    .dataframe tbody tr th {\n",
       "        vertical-align: top;\n",
       "    }\n",
       "\n",
       "    .dataframe thead th {\n",
       "        text-align: right;\n",
       "    }\n",
       "</style>\n",
       "<table border=\"1\" class=\"dataframe\">\n",
       "  <thead>\n",
       "    <tr style=\"text-align: right;\">\n",
       "      <th></th>\n",
       "      <th>building_id</th>\n",
       "      <th>damage_grade</th>\n",
       "    </tr>\n",
       "  </thead>\n",
       "  <tbody>\n",
       "    <tr>\n",
       "      <th>0</th>\n",
       "      <td>802906</td>\n",
       "      <td>3</td>\n",
       "    </tr>\n",
       "    <tr>\n",
       "      <th>1</th>\n",
       "      <td>28830</td>\n",
       "      <td>2</td>\n",
       "    </tr>\n",
       "    <tr>\n",
       "      <th>2</th>\n",
       "      <td>94947</td>\n",
       "      <td>3</td>\n",
       "    </tr>\n",
       "    <tr>\n",
       "      <th>3</th>\n",
       "      <td>590882</td>\n",
       "      <td>2</td>\n",
       "    </tr>\n",
       "    <tr>\n",
       "      <th>4</th>\n",
       "      <td>201944</td>\n",
       "      <td>3</td>\n",
       "    </tr>\n",
       "    <tr>\n",
       "      <th>...</th>\n",
       "      <td>...</td>\n",
       "      <td>...</td>\n",
       "    </tr>\n",
       "    <tr>\n",
       "      <th>260596</th>\n",
       "      <td>688636</td>\n",
       "      <td>2</td>\n",
       "    </tr>\n",
       "    <tr>\n",
       "      <th>260597</th>\n",
       "      <td>669485</td>\n",
       "      <td>3</td>\n",
       "    </tr>\n",
       "    <tr>\n",
       "      <th>260598</th>\n",
       "      <td>602512</td>\n",
       "      <td>3</td>\n",
       "    </tr>\n",
       "    <tr>\n",
       "      <th>260599</th>\n",
       "      <td>151409</td>\n",
       "      <td>2</td>\n",
       "    </tr>\n",
       "    <tr>\n",
       "      <th>260600</th>\n",
       "      <td>747594</td>\n",
       "      <td>3</td>\n",
       "    </tr>\n",
       "  </tbody>\n",
       "</table>\n",
       "<p>260601 rows × 2 columns</p>\n",
       "</div>"
      ],
      "text/plain": [
       "        building_id  damage_grade\n",
       "0            802906             3\n",
       "1             28830             2\n",
       "2             94947             3\n",
       "3            590882             2\n",
       "4            201944             3\n",
       "...             ...           ...\n",
       "260596       688636             2\n",
       "260597       669485             3\n",
       "260598       602512             3\n",
       "260599       151409             2\n",
       "260600       747594             3\n",
       "\n",
       "[260601 rows x 2 columns]"
      ]
     },
     "execution_count": 103,
     "metadata": {},
     "output_type": "execute_result"
    }
   ],
   "source": [
    "url1=\"https://raw.githubusercontent.com/dayananddaya/Input-features/main/target_values.csv\"\n",
    "target_df=pd.read_csv(url1)\n",
    "target_df"
   ]
  },
  {
   "cell_type": "markdown",
   "id": "6a4f2a69",
   "metadata": {},
   "source": [
    " # Concatination of two data frames is done by using concat command and axis is set.\n"
   ]
  },
  {
   "cell_type": "code",
   "execution_count": 104,
   "id": "6296fe6f",
   "metadata": {},
   "outputs": [
    {
     "data": {
      "text/html": [
       "<div>\n",
       "<style scoped>\n",
       "    .dataframe tbody tr th:only-of-type {\n",
       "        vertical-align: middle;\n",
       "    }\n",
       "\n",
       "    .dataframe tbody tr th {\n",
       "        vertical-align: top;\n",
       "    }\n",
       "\n",
       "    .dataframe thead th {\n",
       "        text-align: right;\n",
       "    }\n",
       "</style>\n",
       "<table border=\"1\" class=\"dataframe\">\n",
       "  <thead>\n",
       "    <tr style=\"text-align: right;\">\n",
       "      <th></th>\n",
       "      <th>building_id</th>\n",
       "      <th>geo_level_1_id</th>\n",
       "      <th>geo_level_2_id</th>\n",
       "      <th>geo_level_3_id</th>\n",
       "      <th>count_floors_pre_eq</th>\n",
       "      <th>age</th>\n",
       "      <th>area_percentage</th>\n",
       "      <th>height_percentage</th>\n",
       "      <th>land_surface_condition</th>\n",
       "      <th>foundation_type</th>\n",
       "      <th>...</th>\n",
       "      <th>has_secondary_use_hotel</th>\n",
       "      <th>has_secondary_use_rental</th>\n",
       "      <th>has_secondary_use_institution</th>\n",
       "      <th>has_secondary_use_school</th>\n",
       "      <th>has_secondary_use_industry</th>\n",
       "      <th>has_secondary_use_health_post</th>\n",
       "      <th>has_secondary_use_gov_office</th>\n",
       "      <th>has_secondary_use_use_police</th>\n",
       "      <th>has_secondary_use_other</th>\n",
       "      <th>damage_grade</th>\n",
       "    </tr>\n",
       "  </thead>\n",
       "  <tbody>\n",
       "    <tr>\n",
       "      <th>0</th>\n",
       "      <td>802906</td>\n",
       "      <td>6</td>\n",
       "      <td>487</td>\n",
       "      <td>12198</td>\n",
       "      <td>2</td>\n",
       "      <td>30</td>\n",
       "      <td>6</td>\n",
       "      <td>5</td>\n",
       "      <td>t</td>\n",
       "      <td>r</td>\n",
       "      <td>...</td>\n",
       "      <td>0</td>\n",
       "      <td>0</td>\n",
       "      <td>0</td>\n",
       "      <td>0</td>\n",
       "      <td>0</td>\n",
       "      <td>0</td>\n",
       "      <td>0</td>\n",
       "      <td>0</td>\n",
       "      <td>0</td>\n",
       "      <td>3</td>\n",
       "    </tr>\n",
       "    <tr>\n",
       "      <th>1</th>\n",
       "      <td>28830</td>\n",
       "      <td>8</td>\n",
       "      <td>900</td>\n",
       "      <td>2812</td>\n",
       "      <td>2</td>\n",
       "      <td>10</td>\n",
       "      <td>8</td>\n",
       "      <td>7</td>\n",
       "      <td>o</td>\n",
       "      <td>r</td>\n",
       "      <td>...</td>\n",
       "      <td>0</td>\n",
       "      <td>0</td>\n",
       "      <td>0</td>\n",
       "      <td>0</td>\n",
       "      <td>0</td>\n",
       "      <td>0</td>\n",
       "      <td>0</td>\n",
       "      <td>0</td>\n",
       "      <td>0</td>\n",
       "      <td>2</td>\n",
       "    </tr>\n",
       "    <tr>\n",
       "      <th>2</th>\n",
       "      <td>94947</td>\n",
       "      <td>21</td>\n",
       "      <td>363</td>\n",
       "      <td>8973</td>\n",
       "      <td>2</td>\n",
       "      <td>10</td>\n",
       "      <td>5</td>\n",
       "      <td>5</td>\n",
       "      <td>t</td>\n",
       "      <td>r</td>\n",
       "      <td>...</td>\n",
       "      <td>0</td>\n",
       "      <td>0</td>\n",
       "      <td>0</td>\n",
       "      <td>0</td>\n",
       "      <td>0</td>\n",
       "      <td>0</td>\n",
       "      <td>0</td>\n",
       "      <td>0</td>\n",
       "      <td>0</td>\n",
       "      <td>3</td>\n",
       "    </tr>\n",
       "    <tr>\n",
       "      <th>3</th>\n",
       "      <td>590882</td>\n",
       "      <td>22</td>\n",
       "      <td>418</td>\n",
       "      <td>10694</td>\n",
       "      <td>2</td>\n",
       "      <td>10</td>\n",
       "      <td>6</td>\n",
       "      <td>5</td>\n",
       "      <td>t</td>\n",
       "      <td>r</td>\n",
       "      <td>...</td>\n",
       "      <td>0</td>\n",
       "      <td>0</td>\n",
       "      <td>0</td>\n",
       "      <td>0</td>\n",
       "      <td>0</td>\n",
       "      <td>0</td>\n",
       "      <td>0</td>\n",
       "      <td>0</td>\n",
       "      <td>0</td>\n",
       "      <td>2</td>\n",
       "    </tr>\n",
       "    <tr>\n",
       "      <th>4</th>\n",
       "      <td>201944</td>\n",
       "      <td>11</td>\n",
       "      <td>131</td>\n",
       "      <td>1488</td>\n",
       "      <td>3</td>\n",
       "      <td>30</td>\n",
       "      <td>8</td>\n",
       "      <td>9</td>\n",
       "      <td>t</td>\n",
       "      <td>r</td>\n",
       "      <td>...</td>\n",
       "      <td>0</td>\n",
       "      <td>0</td>\n",
       "      <td>0</td>\n",
       "      <td>0</td>\n",
       "      <td>0</td>\n",
       "      <td>0</td>\n",
       "      <td>0</td>\n",
       "      <td>0</td>\n",
       "      <td>0</td>\n",
       "      <td>3</td>\n",
       "    </tr>\n",
       "    <tr>\n",
       "      <th>...</th>\n",
       "      <td>...</td>\n",
       "      <td>...</td>\n",
       "      <td>...</td>\n",
       "      <td>...</td>\n",
       "      <td>...</td>\n",
       "      <td>...</td>\n",
       "      <td>...</td>\n",
       "      <td>...</td>\n",
       "      <td>...</td>\n",
       "      <td>...</td>\n",
       "      <td>...</td>\n",
       "      <td>...</td>\n",
       "      <td>...</td>\n",
       "      <td>...</td>\n",
       "      <td>...</td>\n",
       "      <td>...</td>\n",
       "      <td>...</td>\n",
       "      <td>...</td>\n",
       "      <td>...</td>\n",
       "      <td>...</td>\n",
       "      <td>...</td>\n",
       "    </tr>\n",
       "    <tr>\n",
       "      <th>260596</th>\n",
       "      <td>688636</td>\n",
       "      <td>25</td>\n",
       "      <td>1335</td>\n",
       "      <td>1621</td>\n",
       "      <td>1</td>\n",
       "      <td>55</td>\n",
       "      <td>6</td>\n",
       "      <td>3</td>\n",
       "      <td>n</td>\n",
       "      <td>r</td>\n",
       "      <td>...</td>\n",
       "      <td>0</td>\n",
       "      <td>0</td>\n",
       "      <td>0</td>\n",
       "      <td>0</td>\n",
       "      <td>0</td>\n",
       "      <td>0</td>\n",
       "      <td>0</td>\n",
       "      <td>0</td>\n",
       "      <td>0</td>\n",
       "      <td>2</td>\n",
       "    </tr>\n",
       "    <tr>\n",
       "      <th>260597</th>\n",
       "      <td>669485</td>\n",
       "      <td>17</td>\n",
       "      <td>715</td>\n",
       "      <td>2060</td>\n",
       "      <td>2</td>\n",
       "      <td>0</td>\n",
       "      <td>6</td>\n",
       "      <td>5</td>\n",
       "      <td>t</td>\n",
       "      <td>r</td>\n",
       "      <td>...</td>\n",
       "      <td>0</td>\n",
       "      <td>0</td>\n",
       "      <td>0</td>\n",
       "      <td>0</td>\n",
       "      <td>0</td>\n",
       "      <td>0</td>\n",
       "      <td>0</td>\n",
       "      <td>0</td>\n",
       "      <td>0</td>\n",
       "      <td>3</td>\n",
       "    </tr>\n",
       "    <tr>\n",
       "      <th>260598</th>\n",
       "      <td>602512</td>\n",
       "      <td>17</td>\n",
       "      <td>51</td>\n",
       "      <td>8163</td>\n",
       "      <td>3</td>\n",
       "      <td>55</td>\n",
       "      <td>6</td>\n",
       "      <td>7</td>\n",
       "      <td>t</td>\n",
       "      <td>r</td>\n",
       "      <td>...</td>\n",
       "      <td>0</td>\n",
       "      <td>0</td>\n",
       "      <td>0</td>\n",
       "      <td>0</td>\n",
       "      <td>0</td>\n",
       "      <td>0</td>\n",
       "      <td>0</td>\n",
       "      <td>0</td>\n",
       "      <td>0</td>\n",
       "      <td>3</td>\n",
       "    </tr>\n",
       "    <tr>\n",
       "      <th>260599</th>\n",
       "      <td>151409</td>\n",
       "      <td>26</td>\n",
       "      <td>39</td>\n",
       "      <td>1851</td>\n",
       "      <td>2</td>\n",
       "      <td>10</td>\n",
       "      <td>14</td>\n",
       "      <td>6</td>\n",
       "      <td>t</td>\n",
       "      <td>r</td>\n",
       "      <td>...</td>\n",
       "      <td>0</td>\n",
       "      <td>0</td>\n",
       "      <td>0</td>\n",
       "      <td>0</td>\n",
       "      <td>0</td>\n",
       "      <td>0</td>\n",
       "      <td>0</td>\n",
       "      <td>0</td>\n",
       "      <td>0</td>\n",
       "      <td>2</td>\n",
       "    </tr>\n",
       "    <tr>\n",
       "      <th>260600</th>\n",
       "      <td>747594</td>\n",
       "      <td>21</td>\n",
       "      <td>9</td>\n",
       "      <td>9101</td>\n",
       "      <td>3</td>\n",
       "      <td>10</td>\n",
       "      <td>7</td>\n",
       "      <td>6</td>\n",
       "      <td>n</td>\n",
       "      <td>r</td>\n",
       "      <td>...</td>\n",
       "      <td>0</td>\n",
       "      <td>0</td>\n",
       "      <td>0</td>\n",
       "      <td>0</td>\n",
       "      <td>0</td>\n",
       "      <td>0</td>\n",
       "      <td>0</td>\n",
       "      <td>0</td>\n",
       "      <td>0</td>\n",
       "      <td>3</td>\n",
       "    </tr>\n",
       "  </tbody>\n",
       "</table>\n",
       "<p>260601 rows × 40 columns</p>\n",
       "</div>"
      ],
      "text/plain": [
       "        building_id  geo_level_1_id  geo_level_2_id  geo_level_3_id  \\\n",
       "0            802906               6             487           12198   \n",
       "1             28830               8             900            2812   \n",
       "2             94947              21             363            8973   \n",
       "3            590882              22             418           10694   \n",
       "4            201944              11             131            1488   \n",
       "...             ...             ...             ...             ...   \n",
       "260596       688636              25            1335            1621   \n",
       "260597       669485              17             715            2060   \n",
       "260598       602512              17              51            8163   \n",
       "260599       151409              26              39            1851   \n",
       "260600       747594              21               9            9101   \n",
       "\n",
       "        count_floors_pre_eq  age  area_percentage  height_percentage  \\\n",
       "0                         2   30                6                  5   \n",
       "1                         2   10                8                  7   \n",
       "2                         2   10                5                  5   \n",
       "3                         2   10                6                  5   \n",
       "4                         3   30                8                  9   \n",
       "...                     ...  ...              ...                ...   \n",
       "260596                    1   55                6                  3   \n",
       "260597                    2    0                6                  5   \n",
       "260598                    3   55                6                  7   \n",
       "260599                    2   10               14                  6   \n",
       "260600                    3   10                7                  6   \n",
       "\n",
       "       land_surface_condition foundation_type  ... has_secondary_use_hotel  \\\n",
       "0                           t               r  ...                       0   \n",
       "1                           o               r  ...                       0   \n",
       "2                           t               r  ...                       0   \n",
       "3                           t               r  ...                       0   \n",
       "4                           t               r  ...                       0   \n",
       "...                       ...             ...  ...                     ...   \n",
       "260596                      n               r  ...                       0   \n",
       "260597                      t               r  ...                       0   \n",
       "260598                      t               r  ...                       0   \n",
       "260599                      t               r  ...                       0   \n",
       "260600                      n               r  ...                       0   \n",
       "\n",
       "       has_secondary_use_rental has_secondary_use_institution  \\\n",
       "0                             0                             0   \n",
       "1                             0                             0   \n",
       "2                             0                             0   \n",
       "3                             0                             0   \n",
       "4                             0                             0   \n",
       "...                         ...                           ...   \n",
       "260596                        0                             0   \n",
       "260597                        0                             0   \n",
       "260598                        0                             0   \n",
       "260599                        0                             0   \n",
       "260600                        0                             0   \n",
       "\n",
       "       has_secondary_use_school has_secondary_use_industry  \\\n",
       "0                             0                          0   \n",
       "1                             0                          0   \n",
       "2                             0                          0   \n",
       "3                             0                          0   \n",
       "4                             0                          0   \n",
       "...                         ...                        ...   \n",
       "260596                        0                          0   \n",
       "260597                        0                          0   \n",
       "260598                        0                          0   \n",
       "260599                        0                          0   \n",
       "260600                        0                          0   \n",
       "\n",
       "        has_secondary_use_health_post  has_secondary_use_gov_office  \\\n",
       "0                                   0                             0   \n",
       "1                                   0                             0   \n",
       "2                                   0                             0   \n",
       "3                                   0                             0   \n",
       "4                                   0                             0   \n",
       "...                               ...                           ...   \n",
       "260596                              0                             0   \n",
       "260597                              0                             0   \n",
       "260598                              0                             0   \n",
       "260599                              0                             0   \n",
       "260600                              0                             0   \n",
       "\n",
       "        has_secondary_use_use_police  has_secondary_use_other  damage_grade  \n",
       "0                                  0                        0             3  \n",
       "1                                  0                        0             2  \n",
       "2                                  0                        0             3  \n",
       "3                                  0                        0             2  \n",
       "4                                  0                        0             3  \n",
       "...                              ...                      ...           ...  \n",
       "260596                             0                        0             2  \n",
       "260597                             0                        0             3  \n",
       "260598                             0                        0             3  \n",
       "260599                             0                        0             2  \n",
       "260600                             0                        0             3  \n",
       "\n",
       "[260601 rows x 40 columns]"
      ]
     },
     "execution_count": 104,
     "metadata": {},
     "output_type": "execute_result"
    }
   ],
   "source": [
    "frames=[earthquake_df,target_df.drop(columns='building_id')]\n",
    "earthquake_complete=pd.concat(frames, axis=1)\n",
    "earthquake_complete\n"
   ]
  },
  {
   "cell_type": "markdown",
   "id": "ad831f54",
   "metadata": {},
   "source": [
    "# dataframe[name].columns is used to display the column names of the dataframe\n"
   ]
  },
  {
   "cell_type": "code",
   "execution_count": 105,
   "id": "4f11ffd8",
   "metadata": {},
   "outputs": [
    {
     "data": {
      "text/plain": [
       "Index(['building_id', 'geo_level_1_id', 'geo_level_2_id', 'geo_level_3_id',\n",
       "       'count_floors_pre_eq', 'age', 'area_percentage', 'height_percentage',\n",
       "       'land_surface_condition', 'foundation_type', 'roof_type',\n",
       "       'ground_floor_type', 'other_floor_type', 'position',\n",
       "       'plan_configuration', 'has_superstructure_adobe_mud',\n",
       "       'has_superstructure_mud_mortar_stone', 'has_superstructure_stone_flag',\n",
       "       'has_superstructure_cement_mortar_stone',\n",
       "       'has_superstructure_mud_mortar_brick',\n",
       "       'has_superstructure_cement_mortar_brick', 'has_superstructure_timber',\n",
       "       'has_superstructure_bamboo', 'has_superstructure_rc_non_engineered',\n",
       "       'has_superstructure_rc_engineered', 'has_superstructure_other',\n",
       "       'legal_ownership_status', 'count_families', 'has_secondary_use',\n",
       "       'has_secondary_use_agriculture', 'has_secondary_use_hotel',\n",
       "       'has_secondary_use_rental', 'has_secondary_use_institution',\n",
       "       'has_secondary_use_school', 'has_secondary_use_industry',\n",
       "       'has_secondary_use_health_post', 'has_secondary_use_gov_office',\n",
       "       'has_secondary_use_use_police', 'has_secondary_use_other',\n",
       "       'damage_grade'],\n",
       "      dtype='object')"
      ]
     },
     "execution_count": 105,
     "metadata": {},
     "output_type": "execute_result"
    }
   ],
   "source": [
    "earthquake_complete.columns"
   ]
  },
  {
   "cell_type": "markdown",
   "id": "7f373310",
   "metadata": {},
   "source": [
    "# Describing the earthquake_complete dataframe\n"
   ]
  },
  {
   "cell_type": "code",
   "execution_count": 106,
   "id": "d419e7b0",
   "metadata": {},
   "outputs": [
    {
     "data": {
      "text/html": [
       "<div>\n",
       "<style scoped>\n",
       "    .dataframe tbody tr th:only-of-type {\n",
       "        vertical-align: middle;\n",
       "    }\n",
       "\n",
       "    .dataframe tbody tr th {\n",
       "        vertical-align: top;\n",
       "    }\n",
       "\n",
       "    .dataframe thead th {\n",
       "        text-align: right;\n",
       "    }\n",
       "</style>\n",
       "<table border=\"1\" class=\"dataframe\">\n",
       "  <thead>\n",
       "    <tr style=\"text-align: right;\">\n",
       "      <th></th>\n",
       "      <th>building_id</th>\n",
       "      <th>geo_level_1_id</th>\n",
       "      <th>geo_level_2_id</th>\n",
       "      <th>geo_level_3_id</th>\n",
       "      <th>count_floors_pre_eq</th>\n",
       "      <th>age</th>\n",
       "      <th>area_percentage</th>\n",
       "      <th>height_percentage</th>\n",
       "      <th>has_superstructure_adobe_mud</th>\n",
       "      <th>has_superstructure_mud_mortar_stone</th>\n",
       "      <th>...</th>\n",
       "      <th>has_secondary_use_hotel</th>\n",
       "      <th>has_secondary_use_rental</th>\n",
       "      <th>has_secondary_use_institution</th>\n",
       "      <th>has_secondary_use_school</th>\n",
       "      <th>has_secondary_use_industry</th>\n",
       "      <th>has_secondary_use_health_post</th>\n",
       "      <th>has_secondary_use_gov_office</th>\n",
       "      <th>has_secondary_use_use_police</th>\n",
       "      <th>has_secondary_use_other</th>\n",
       "      <th>damage_grade</th>\n",
       "    </tr>\n",
       "  </thead>\n",
       "  <tbody>\n",
       "    <tr>\n",
       "      <th>count</th>\n",
       "      <td>2.606010e+05</td>\n",
       "      <td>260601.000000</td>\n",
       "      <td>260601.000000</td>\n",
       "      <td>260601.000000</td>\n",
       "      <td>260601.000000</td>\n",
       "      <td>260601.000000</td>\n",
       "      <td>260601.000000</td>\n",
       "      <td>260601.000000</td>\n",
       "      <td>260601.000000</td>\n",
       "      <td>260601.000000</td>\n",
       "      <td>...</td>\n",
       "      <td>260601.000000</td>\n",
       "      <td>260601.000000</td>\n",
       "      <td>260601.000000</td>\n",
       "      <td>260601.000000</td>\n",
       "      <td>260601.000000</td>\n",
       "      <td>260601.000000</td>\n",
       "      <td>260601.000000</td>\n",
       "      <td>260601.000000</td>\n",
       "      <td>260601.000000</td>\n",
       "      <td>260601.000000</td>\n",
       "    </tr>\n",
       "    <tr>\n",
       "      <th>mean</th>\n",
       "      <td>5.256755e+05</td>\n",
       "      <td>13.900353</td>\n",
       "      <td>701.074685</td>\n",
       "      <td>6257.876148</td>\n",
       "      <td>2.129723</td>\n",
       "      <td>26.535029</td>\n",
       "      <td>8.018051</td>\n",
       "      <td>5.434365</td>\n",
       "      <td>0.088645</td>\n",
       "      <td>0.761935</td>\n",
       "      <td>...</td>\n",
       "      <td>0.033626</td>\n",
       "      <td>0.008101</td>\n",
       "      <td>0.000940</td>\n",
       "      <td>0.000361</td>\n",
       "      <td>0.001071</td>\n",
       "      <td>0.000188</td>\n",
       "      <td>0.000146</td>\n",
       "      <td>0.000088</td>\n",
       "      <td>0.005119</td>\n",
       "      <td>2.238272</td>\n",
       "    </tr>\n",
       "    <tr>\n",
       "      <th>std</th>\n",
       "      <td>3.045450e+05</td>\n",
       "      <td>8.033617</td>\n",
       "      <td>412.710734</td>\n",
       "      <td>3646.369645</td>\n",
       "      <td>0.727665</td>\n",
       "      <td>73.565937</td>\n",
       "      <td>4.392231</td>\n",
       "      <td>1.918418</td>\n",
       "      <td>0.284231</td>\n",
       "      <td>0.425900</td>\n",
       "      <td>...</td>\n",
       "      <td>0.180265</td>\n",
       "      <td>0.089638</td>\n",
       "      <td>0.030647</td>\n",
       "      <td>0.018989</td>\n",
       "      <td>0.032703</td>\n",
       "      <td>0.013711</td>\n",
       "      <td>0.012075</td>\n",
       "      <td>0.009394</td>\n",
       "      <td>0.071364</td>\n",
       "      <td>0.611814</td>\n",
       "    </tr>\n",
       "    <tr>\n",
       "      <th>min</th>\n",
       "      <td>4.000000e+00</td>\n",
       "      <td>0.000000</td>\n",
       "      <td>0.000000</td>\n",
       "      <td>0.000000</td>\n",
       "      <td>1.000000</td>\n",
       "      <td>0.000000</td>\n",
       "      <td>1.000000</td>\n",
       "      <td>2.000000</td>\n",
       "      <td>0.000000</td>\n",
       "      <td>0.000000</td>\n",
       "      <td>...</td>\n",
       "      <td>0.000000</td>\n",
       "      <td>0.000000</td>\n",
       "      <td>0.000000</td>\n",
       "      <td>0.000000</td>\n",
       "      <td>0.000000</td>\n",
       "      <td>0.000000</td>\n",
       "      <td>0.000000</td>\n",
       "      <td>0.000000</td>\n",
       "      <td>0.000000</td>\n",
       "      <td>1.000000</td>\n",
       "    </tr>\n",
       "    <tr>\n",
       "      <th>25%</th>\n",
       "      <td>2.611900e+05</td>\n",
       "      <td>7.000000</td>\n",
       "      <td>350.000000</td>\n",
       "      <td>3073.000000</td>\n",
       "      <td>2.000000</td>\n",
       "      <td>10.000000</td>\n",
       "      <td>5.000000</td>\n",
       "      <td>4.000000</td>\n",
       "      <td>0.000000</td>\n",
       "      <td>1.000000</td>\n",
       "      <td>...</td>\n",
       "      <td>0.000000</td>\n",
       "      <td>0.000000</td>\n",
       "      <td>0.000000</td>\n",
       "      <td>0.000000</td>\n",
       "      <td>0.000000</td>\n",
       "      <td>0.000000</td>\n",
       "      <td>0.000000</td>\n",
       "      <td>0.000000</td>\n",
       "      <td>0.000000</td>\n",
       "      <td>2.000000</td>\n",
       "    </tr>\n",
       "    <tr>\n",
       "      <th>50%</th>\n",
       "      <td>5.257570e+05</td>\n",
       "      <td>12.000000</td>\n",
       "      <td>702.000000</td>\n",
       "      <td>6270.000000</td>\n",
       "      <td>2.000000</td>\n",
       "      <td>15.000000</td>\n",
       "      <td>7.000000</td>\n",
       "      <td>5.000000</td>\n",
       "      <td>0.000000</td>\n",
       "      <td>1.000000</td>\n",
       "      <td>...</td>\n",
       "      <td>0.000000</td>\n",
       "      <td>0.000000</td>\n",
       "      <td>0.000000</td>\n",
       "      <td>0.000000</td>\n",
       "      <td>0.000000</td>\n",
       "      <td>0.000000</td>\n",
       "      <td>0.000000</td>\n",
       "      <td>0.000000</td>\n",
       "      <td>0.000000</td>\n",
       "      <td>2.000000</td>\n",
       "    </tr>\n",
       "    <tr>\n",
       "      <th>75%</th>\n",
       "      <td>7.897620e+05</td>\n",
       "      <td>21.000000</td>\n",
       "      <td>1050.000000</td>\n",
       "      <td>9412.000000</td>\n",
       "      <td>2.000000</td>\n",
       "      <td>30.000000</td>\n",
       "      <td>9.000000</td>\n",
       "      <td>6.000000</td>\n",
       "      <td>0.000000</td>\n",
       "      <td>1.000000</td>\n",
       "      <td>...</td>\n",
       "      <td>0.000000</td>\n",
       "      <td>0.000000</td>\n",
       "      <td>0.000000</td>\n",
       "      <td>0.000000</td>\n",
       "      <td>0.000000</td>\n",
       "      <td>0.000000</td>\n",
       "      <td>0.000000</td>\n",
       "      <td>0.000000</td>\n",
       "      <td>0.000000</td>\n",
       "      <td>3.000000</td>\n",
       "    </tr>\n",
       "    <tr>\n",
       "      <th>max</th>\n",
       "      <td>1.052934e+06</td>\n",
       "      <td>30.000000</td>\n",
       "      <td>1427.000000</td>\n",
       "      <td>12567.000000</td>\n",
       "      <td>9.000000</td>\n",
       "      <td>995.000000</td>\n",
       "      <td>100.000000</td>\n",
       "      <td>32.000000</td>\n",
       "      <td>1.000000</td>\n",
       "      <td>1.000000</td>\n",
       "      <td>...</td>\n",
       "      <td>1.000000</td>\n",
       "      <td>1.000000</td>\n",
       "      <td>1.000000</td>\n",
       "      <td>1.000000</td>\n",
       "      <td>1.000000</td>\n",
       "      <td>1.000000</td>\n",
       "      <td>1.000000</td>\n",
       "      <td>1.000000</td>\n",
       "      <td>1.000000</td>\n",
       "      <td>3.000000</td>\n",
       "    </tr>\n",
       "  </tbody>\n",
       "</table>\n",
       "<p>8 rows × 32 columns</p>\n",
       "</div>"
      ],
      "text/plain": [
       "        building_id  geo_level_1_id  geo_level_2_id  geo_level_3_id  \\\n",
       "count  2.606010e+05   260601.000000   260601.000000   260601.000000   \n",
       "mean   5.256755e+05       13.900353      701.074685     6257.876148   \n",
       "std    3.045450e+05        8.033617      412.710734     3646.369645   \n",
       "min    4.000000e+00        0.000000        0.000000        0.000000   \n",
       "25%    2.611900e+05        7.000000      350.000000     3073.000000   \n",
       "50%    5.257570e+05       12.000000      702.000000     6270.000000   \n",
       "75%    7.897620e+05       21.000000     1050.000000     9412.000000   \n",
       "max    1.052934e+06       30.000000     1427.000000    12567.000000   \n",
       "\n",
       "       count_floors_pre_eq            age  area_percentage  height_percentage  \\\n",
       "count        260601.000000  260601.000000    260601.000000      260601.000000   \n",
       "mean              2.129723      26.535029         8.018051           5.434365   \n",
       "std               0.727665      73.565937         4.392231           1.918418   \n",
       "min               1.000000       0.000000         1.000000           2.000000   \n",
       "25%               2.000000      10.000000         5.000000           4.000000   \n",
       "50%               2.000000      15.000000         7.000000           5.000000   \n",
       "75%               2.000000      30.000000         9.000000           6.000000   \n",
       "max               9.000000     995.000000       100.000000          32.000000   \n",
       "\n",
       "       has_superstructure_adobe_mud  has_superstructure_mud_mortar_stone  ...  \\\n",
       "count                 260601.000000                        260601.000000  ...   \n",
       "mean                       0.088645                             0.761935  ...   \n",
       "std                        0.284231                             0.425900  ...   \n",
       "min                        0.000000                             0.000000  ...   \n",
       "25%                        0.000000                             1.000000  ...   \n",
       "50%                        0.000000                             1.000000  ...   \n",
       "75%                        0.000000                             1.000000  ...   \n",
       "max                        1.000000                             1.000000  ...   \n",
       "\n",
       "       has_secondary_use_hotel  has_secondary_use_rental  \\\n",
       "count            260601.000000             260601.000000   \n",
       "mean                  0.033626                  0.008101   \n",
       "std                   0.180265                  0.089638   \n",
       "min                   0.000000                  0.000000   \n",
       "25%                   0.000000                  0.000000   \n",
       "50%                   0.000000                  0.000000   \n",
       "75%                   0.000000                  0.000000   \n",
       "max                   1.000000                  1.000000   \n",
       "\n",
       "       has_secondary_use_institution  has_secondary_use_school  \\\n",
       "count                  260601.000000             260601.000000   \n",
       "mean                        0.000940                  0.000361   \n",
       "std                         0.030647                  0.018989   \n",
       "min                         0.000000                  0.000000   \n",
       "25%                         0.000000                  0.000000   \n",
       "50%                         0.000000                  0.000000   \n",
       "75%                         0.000000                  0.000000   \n",
       "max                         1.000000                  1.000000   \n",
       "\n",
       "       has_secondary_use_industry  has_secondary_use_health_post  \\\n",
       "count               260601.000000                  260601.000000   \n",
       "mean                     0.001071                       0.000188   \n",
       "std                      0.032703                       0.013711   \n",
       "min                      0.000000                       0.000000   \n",
       "25%                      0.000000                       0.000000   \n",
       "50%                      0.000000                       0.000000   \n",
       "75%                      0.000000                       0.000000   \n",
       "max                      1.000000                       1.000000   \n",
       "\n",
       "       has_secondary_use_gov_office  has_secondary_use_use_police  \\\n",
       "count                 260601.000000                 260601.000000   \n",
       "mean                       0.000146                      0.000088   \n",
       "std                        0.012075                      0.009394   \n",
       "min                        0.000000                      0.000000   \n",
       "25%                        0.000000                      0.000000   \n",
       "50%                        0.000000                      0.000000   \n",
       "75%                        0.000000                      0.000000   \n",
       "max                        1.000000                      1.000000   \n",
       "\n",
       "       has_secondary_use_other   damage_grade  \n",
       "count            260601.000000  260601.000000  \n",
       "mean                  0.005119       2.238272  \n",
       "std                   0.071364       0.611814  \n",
       "min                   0.000000       1.000000  \n",
       "25%                   0.000000       2.000000  \n",
       "50%                   0.000000       2.000000  \n",
       "75%                   0.000000       3.000000  \n",
       "max                   1.000000       3.000000  \n",
       "\n",
       "[8 rows x 32 columns]"
      ]
     },
     "execution_count": 106,
     "metadata": {},
     "output_type": "execute_result"
    }
   ],
   "source": [
    "earthquake_complete.describe()"
   ]
  },
  {
   "cell_type": "markdown",
   "id": "a0444f41",
   "metadata": {},
   "source": [
    "#  Chapter 2 IDA Cleaning of Data set and checking for null values\n"
   ]
  },
  {
   "cell_type": "code",
   "execution_count": 107,
   "id": "1311c80c",
   "metadata": {},
   "outputs": [
    {
     "data": {
      "text/plain": [
       "building_id                               0\n",
       "geo_level_1_id                            0\n",
       "geo_level_2_id                            0\n",
       "geo_level_3_id                            0\n",
       "count_floors_pre_eq                       0\n",
       "age                                       0\n",
       "area_percentage                           0\n",
       "height_percentage                         0\n",
       "land_surface_condition                    0\n",
       "foundation_type                           0\n",
       "roof_type                                 0\n",
       "ground_floor_type                         0\n",
       "other_floor_type                          0\n",
       "position                                  0\n",
       "plan_configuration                        0\n",
       "has_superstructure_adobe_mud              0\n",
       "has_superstructure_mud_mortar_stone       0\n",
       "has_superstructure_stone_flag             0\n",
       "has_superstructure_cement_mortar_stone    0\n",
       "has_superstructure_mud_mortar_brick       0\n",
       "has_superstructure_cement_mortar_brick    0\n",
       "has_superstructure_timber                 0\n",
       "has_superstructure_bamboo                 0\n",
       "has_superstructure_rc_non_engineered      0\n",
       "has_superstructure_rc_engineered          0\n",
       "has_superstructure_other                  0\n",
       "legal_ownership_status                    0\n",
       "count_families                            0\n",
       "has_secondary_use                         0\n",
       "has_secondary_use_agriculture             0\n",
       "has_secondary_use_hotel                   0\n",
       "has_secondary_use_rental                  0\n",
       "has_secondary_use_institution             0\n",
       "has_secondary_use_school                  0\n",
       "has_secondary_use_industry                0\n",
       "has_secondary_use_health_post             0\n",
       "has_secondary_use_gov_office              0\n",
       "has_secondary_use_use_police              0\n",
       "has_secondary_use_other                   0\n",
       "damage_grade                              0\n",
       "dtype: int64"
      ]
     },
     "execution_count": 107,
     "metadata": {},
     "output_type": "execute_result"
    }
   ],
   "source": [
    "earthquake_complete.isna().sum()"
   ]
  },
  {
   "cell_type": "markdown",
   "id": "3783cf96",
   "metadata": {},
   "source": [
    "# Checking the lenth of DataFrame"
   ]
  },
  {
   "cell_type": "code",
   "execution_count": 108,
   "id": "8c11f6c9",
   "metadata": {},
   "outputs": [
    {
     "data": {
      "text/plain": [
       "260601"
      ]
     },
     "execution_count": 108,
     "metadata": {},
     "output_type": "execute_result"
    }
   ],
   "source": [
    "len(earthquake_complete)"
   ]
  },
  {
   "cell_type": "markdown",
   "id": "ca406776",
   "metadata": {},
   "source": [
    "# Showing the proportion of missing data\n"
   ]
  },
  {
   "cell_type": "code",
   "execution_count": 109,
   "id": "b93d10f0",
   "metadata": {},
   "outputs": [
    {
     "data": {
      "text/plain": [
       "building_id                               0.0\n",
       "geo_level_1_id                            0.0\n",
       "geo_level_2_id                            0.0\n",
       "geo_level_3_id                            0.0\n",
       "count_floors_pre_eq                       0.0\n",
       "age                                       0.0\n",
       "area_percentage                           0.0\n",
       "height_percentage                         0.0\n",
       "land_surface_condition                    0.0\n",
       "foundation_type                           0.0\n",
       "roof_type                                 0.0\n",
       "ground_floor_type                         0.0\n",
       "other_floor_type                          0.0\n",
       "position                                  0.0\n",
       "plan_configuration                        0.0\n",
       "has_superstructure_adobe_mud              0.0\n",
       "has_superstructure_mud_mortar_stone       0.0\n",
       "has_superstructure_stone_flag             0.0\n",
       "has_superstructure_cement_mortar_stone    0.0\n",
       "has_superstructure_mud_mortar_brick       0.0\n",
       "has_superstructure_cement_mortar_brick    0.0\n",
       "has_superstructure_timber                 0.0\n",
       "has_superstructure_bamboo                 0.0\n",
       "has_superstructure_rc_non_engineered      0.0\n",
       "has_superstructure_rc_engineered          0.0\n",
       "has_superstructure_other                  0.0\n",
       "legal_ownership_status                    0.0\n",
       "count_families                            0.0\n",
       "has_secondary_use                         0.0\n",
       "has_secondary_use_agriculture             0.0\n",
       "has_secondary_use_hotel                   0.0\n",
       "has_secondary_use_rental                  0.0\n",
       "has_secondary_use_institution             0.0\n",
       "has_secondary_use_school                  0.0\n",
       "has_secondary_use_industry                0.0\n",
       "has_secondary_use_health_post             0.0\n",
       "has_secondary_use_gov_office              0.0\n",
       "has_secondary_use_use_police              0.0\n",
       "has_secondary_use_other                   0.0\n",
       "damage_grade                              0.0\n",
       "dtype: float64"
      ]
     },
     "execution_count": 109,
     "metadata": {},
     "output_type": "execute_result"
    }
   ],
   "source": [
    "(earthquake_complete.isna().sum() / len(earthquake_complete)) * 100"
   ]
  },
  {
   "cell_type": "markdown",
   "id": "f226dffe",
   "metadata": {},
   "source": [
    "## As the Dataset provided is clean and free from missing values so the Data cleansing part is  not necessary."
   ]
  },
  {
   "cell_type": "markdown",
   "id": "3b91aedc",
   "metadata": {},
   "source": [
    "# Chapter 3 EDA"
   ]
  },
  {
   "cell_type": "markdown",
   "id": "a5bdfc15",
   "metadata": {},
   "source": [
    "# Question 1: What foundation type is most and least vulnerable?"
   ]
  },
  {
   "cell_type": "code",
   "execution_count": 110,
   "id": "532504ac",
   "metadata": {},
   "outputs": [
    {
     "data": {
      "text/plain": [
       "r    0.841117\n",
       "w    0.058012\n",
       "u    0.054720\n",
       "i    0.040595\n",
       "h    0.005556\n",
       "Name: foundation_type, dtype: float64"
      ]
     },
     "execution_count": 110,
     "metadata": {},
     "output_type": "execute_result"
    }
   ],
   "source": [
    "earthquake_complete['foundation_type'].value_counts(normalize = True)"
   ]
  },
  {
   "cell_type": "code",
   "execution_count": 111,
   "id": "dd0125ba",
   "metadata": {},
   "outputs": [
    {
     "data": {
      "text/html": [
       "<div>\n",
       "<style scoped>\n",
       "    .dataframe tbody tr th:only-of-type {\n",
       "        vertical-align: middle;\n",
       "    }\n",
       "\n",
       "    .dataframe tbody tr th {\n",
       "        vertical-align: top;\n",
       "    }\n",
       "\n",
       "    .dataframe thead th {\n",
       "        text-align: right;\n",
       "    }\n",
       "</style>\n",
       "<table border=\"1\" class=\"dataframe\">\n",
       "  <thead>\n",
       "    <tr style=\"text-align: right;\">\n",
       "      <th></th>\n",
       "      <th>foundation_type</th>\n",
       "    </tr>\n",
       "    <tr>\n",
       "      <th>damage_grade</th>\n",
       "      <th></th>\n",
       "    </tr>\n",
       "  </thead>\n",
       "  <tbody>\n",
       "    <tr>\n",
       "      <th>1</th>\n",
       "      <td>([r], [10720])</td>\n",
       "    </tr>\n",
       "    <tr>\n",
       "      <th>2</th>\n",
       "      <td>([r], [125515])</td>\n",
       "    </tr>\n",
       "    <tr>\n",
       "      <th>3</th>\n",
       "      <td>([r], [82961])</td>\n",
       "    </tr>\n",
       "  </tbody>\n",
       "</table>\n",
       "</div>"
      ],
      "text/plain": [
       "              foundation_type\n",
       "damage_grade                 \n",
       "1              ([r], [10720])\n",
       "2             ([r], [125515])\n",
       "3              ([r], [82961])"
      ]
     },
     "execution_count": 111,
     "metadata": {},
     "output_type": "execute_result"
    }
   ],
   "source": [
    "earthquake_complete[['foundation_type', 'damage_grade']].groupby(by=['damage_grade']).agg(scipy.stats.mode)"
   ]
  },
  {
   "cell_type": "markdown",
   "id": "fe569260",
   "metadata": {},
   "source": [
    "## The most and the least affected foundation type is 'r' as for damage_grade valued 1 and 3, therefore it is the least credible foundation type. Any other 'foundation_type' will prove to be more reliable than 'r' foundation_type."
   ]
  },
  {
   "cell_type": "markdown",
   "id": "9bd9771d",
   "metadata": {},
   "source": [
    "# Question 2: How number of floors and roof type affects in buildings sustainability?\n"
   ]
  },
  {
   "cell_type": "code",
   "execution_count": 112,
   "id": "37730e0e",
   "metadata": {},
   "outputs": [
    {
     "data": {
      "image/png": "[encoded data removed]",
      "text/plain": [
       "<Figure size 864x360 with 1 Axes>"
      ]
     },
     "metadata": {
      "needs_background": "light"
     },
     "output_type": "display_data"
    }
   ],
   "source": [
    "# Calculate counts\n",
    "df_temp = earthquake_complete.groupby(['count_floors_pre_eq','damage_grade']).size().reset_index(name='count')\n",
    "\n",
    "# Set Index\n",
    "df_temp = df_temp.set_index(['count_floors_pre_eq', 'damage_grade'])\n",
    "\n",
    "# Calculate Proportion of grade\n",
    "df_temp = df_temp.groupby(level=0).apply(lambda x: 100 * x / float(x.sum())).reset_index()\n",
    "\n",
    "# Plot chart\n",
    "plt.figure(figsize=(12,5))\n",
    "ax = sns.barplot(data = df_temp, \n",
    "                 x = 'count_floors_pre_eq', \n",
    "                 y = 'count', \n",
    "                 hue = 'damage_grade')\n",
    "# ax.yaxis.set_major_formatter(mtick.PercentFormatter())\n",
    "ax.legend(loc='center left', bbox_to_anchor=(1, 0.5), ncol=1)\n",
    "plt.title(\"Distribution of no. of floors in the building with respect to damage grade\", y=1.015, fontsize=22);\n",
    "plt.xlabel(\"Number of floors\")\n",
    "plt.ylabel(\"Percentage of Buildings\")\n",
    "plt.show()\n",
    "\n",
    "# Clean up\n",
    "del df_temp, ax"
   ]
  },
  {
   "cell_type": "code",
   "execution_count": 113,
   "id": "ea140ffe",
   "metadata": {},
   "outputs": [
    {
     "data": {
      "image/png": "[encoded data removed]",
      "text/plain": [
       "<Figure size 864x432 with 1 Axes>"
      ]
     },
     "metadata": {
      "needs_background": "light"
     },
     "output_type": "display_data"
    }
   ],
   "source": [
    "plt.figure(figsize = (12,6))\n",
    "ax = earthquake_complete.roof_type.value_counts().plot(kind = \"bar\")\n",
    "plt.title(\"Number of Buildings by Roof Type\")\n",
    "plt.show()"
   ]
  },
  {
   "cell_type": "code",
   "execution_count": 114,
   "id": "8bd7b7c8",
   "metadata": {},
   "outputs": [
    {
     "data": {
      "image/png": "[encoded data removed]",
      "text/plain": [
       "<Figure size 864x360 with 2 Axes>"
      ]
     },
     "metadata": {
      "needs_background": "light"
     },
     "output_type": "display_data"
    }
   ],
   "source": [
    "# Calculate counts\n",
    "df_temp = earthquake_complete.groupby(['roof_type','damage_grade']).size().reset_index(name='count')\n",
    "\n",
    "# Set Index\n",
    "df_temp = df_temp.set_index(['roof_type', 'damage_grade'])\n",
    "\n",
    "# Calculate Proportion of grade\n",
    "df_temp = df_temp.groupby(level=0).apply(lambda x: 100 * x / float(x.sum())).reset_index()\n",
    "\n",
    "# Pivot table\n",
    "df_temp = pd.pivot_table(df_temp, values='count', index=['roof_type'], columns='damage_grade')\n",
    "\n",
    "# Plot char\n",
    "plt.figure(figsize=(12,5))\n",
    "ax = sns.heatmap(data = df_temp, annot = True )\n",
    "#plt.xticks(rotation = 50)\n",
    "#ax.legend(loc='center left', bbox_to_anchor=(1, 0.5), ncol=1)\n",
    "plt.title(\"Distribution of Damage Grade by Roof Type\")\n",
    "plt.xlabel(\"Damage Grade\")\n",
    "plt.ylabel(\"Roof Type\")\n",
    "plt.show()\n",
    "\n",
    "# Clean up\n",
    "#del df_temp, ax"
   ]
  },
  {
   "cell_type": "code",
   "execution_count": 115,
   "id": "d80b3305",
   "metadata": {},
   "outputs": [
    {
     "data": {
      "text/html": [
       "<div>\n",
       "<style scoped>\n",
       "    .dataframe tbody tr th:only-of-type {\n",
       "        vertical-align: middle;\n",
       "    }\n",
       "\n",
       "    .dataframe tbody tr th {\n",
       "        vertical-align: top;\n",
       "    }\n",
       "\n",
       "    .dataframe thead th {\n",
       "        text-align: right;\n",
       "    }\n",
       "</style>\n",
       "<table border=\"1\" class=\"dataframe\">\n",
       "  <thead>\n",
       "    <tr style=\"text-align: right;\">\n",
       "      <th>damage_grade</th>\n",
       "      <th>1</th>\n",
       "      <th>2</th>\n",
       "      <th>3</th>\n",
       "    </tr>\n",
       "    <tr>\n",
       "      <th>roof_type</th>\n",
       "      <th></th>\n",
       "      <th></th>\n",
       "      <th></th>\n",
       "    </tr>\n",
       "  </thead>\n",
       "  <tbody>\n",
       "    <tr>\n",
       "      <th>n</th>\n",
       "      <td>7.409129</td>\n",
       "      <td>58.218024</td>\n",
       "      <td>34.372847</td>\n",
       "    </tr>\n",
       "    <tr>\n",
       "      <th>q</th>\n",
       "      <td>6.375861</td>\n",
       "      <td>55.230934</td>\n",
       "      <td>38.393205</td>\n",
       "    </tr>\n",
       "    <tr>\n",
       "      <th>x</th>\n",
       "      <td>47.278008</td>\n",
       "      <td>48.217265</td>\n",
       "      <td>4.504727</td>\n",
       "    </tr>\n",
       "  </tbody>\n",
       "</table>\n",
       "</div>"
      ],
      "text/plain": [
       "damage_grade          1          2          3\n",
       "roof_type                                    \n",
       "n              7.409129  58.218024  34.372847\n",
       "q              6.375861  55.230934  38.393205\n",
       "x             47.278008  48.217265   4.504727"
      ]
     },
     "execution_count": 115,
     "metadata": {},
     "output_type": "execute_result"
    }
   ],
   "source": [
    "df_temp"
   ]
  },
  {
   "cell_type": "markdown",
   "id": "b194340f",
   "metadata": {},
   "source": []
  },
  {
   "cell_type": "markdown",
   "id": "c7482f1e",
   "metadata": {},
   "source": [
    "## From the above graph we can see that roof type x is disproportionately damage grade 1 (47%). Contrast this with the other types that have <10%. This is reinforced further by the fact we could expect only 10% of the data to be damage grade 1"
   ]
  },
  {
   "cell_type": "code",
   "execution_count": 116,
   "id": "14a977af",
   "metadata": {},
   "outputs": [
    {
     "data": {
      "text/plain": [
       "2    0.568912\n",
       "3    0.334680\n",
       "1    0.096408\n",
       "Name: damage_grade, dtype: float64"
      ]
     },
     "execution_count": 116,
     "metadata": {},
     "output_type": "execute_result"
    }
   ],
   "source": [
    "earthquake_complete['damage_grade'].value_counts(normalize=True)"
   ]
  },
  {
   "cell_type": "markdown",
   "id": "01a53bf4",
   "metadata": {},
   "source": [
    "## Higher the number of floors in a building, higher sustainability it have."
   ]
  },
  {
   "cell_type": "markdown",
   "id": "98ee9d2c",
   "metadata": {},
   "source": [
    "# Question 3: Does buildings age play a role in damage grade?"
   ]
  },
  {
   "cell_type": "markdown",
   "id": "910989fa",
   "metadata": {},
   "source": [
    "# Value counts of age"
   ]
  },
  {
   "cell_type": "code",
   "execution_count": 117,
   "id": "6437bdf5",
   "metadata": {},
   "outputs": [
    {
     "data": {
      "text/plain": [
       "10     38896\n",
       "15     36010\n",
       "5      33697\n",
       "20     32182\n",
       "0      26041\n",
       "25     24366\n",
       "30     18028\n",
       "35     10710\n",
       "40     10559\n",
       "50      7257\n",
       "45      4711\n",
       "60      3612\n",
       "80      3055\n",
       "55      2033\n",
       "70      1975\n",
       "995     1390\n",
       "100     1364\n",
       "65      1123\n",
       "90      1085\n",
       "85       847\n",
       "75       512\n",
       "95       414\n",
       "120      180\n",
       "150      142\n",
       "200      106\n",
       "110      100\n",
       "105       89\n",
       "125       37\n",
       "115       21\n",
       "130        9\n",
       "140        9\n",
       "180        7\n",
       "160        6\n",
       "170        6\n",
       "175        5\n",
       "135        5\n",
       "190        3\n",
       "145        3\n",
       "195        2\n",
       "165        2\n",
       "155        1\n",
       "185        1\n",
       "Name: age, dtype: int64"
      ]
     },
     "execution_count": 117,
     "metadata": {},
     "output_type": "execute_result"
    }
   ],
   "source": [
    "earthquake_complete.age.value_counts()"
   ]
  },
  {
   "cell_type": "markdown",
   "id": "9a0a4241",
   "metadata": {},
   "source": [
    "# Value counts of damage grade"
   ]
  },
  {
   "cell_type": "code",
   "execution_count": 118,
   "id": "8fc1f71c",
   "metadata": {},
   "outputs": [
    {
     "data": {
      "text/plain": [
       "2    148259\n",
       "3     87218\n",
       "1     25124\n",
       "Name: damage_grade, dtype: int64"
      ]
     },
     "execution_count": 118,
     "metadata": {},
     "output_type": "execute_result"
    }
   ],
   "source": [
    "earthquake_complete.damage_grade.value_counts()"
   ]
  },
  {
   "cell_type": "markdown",
   "id": "675bb4df",
   "metadata": {},
   "source": [
    "# Correlation of age and damage"
   ]
  },
  {
   "cell_type": "code",
   "execution_count": 119,
   "id": "cb466260",
   "metadata": {},
   "outputs": [
    {
     "data": {
      "text/plain": [
       "['age', 'damage_grade']"
      ]
     },
     "execution_count": 119,
     "metadata": {},
     "output_type": "execute_result"
    }
   ],
   "source": [
    "cols = [\"age\", \"damage_grade\"]\n",
    "cols"
   ]
  },
  {
   "cell_type": "code",
   "execution_count": 120,
   "id": "6c52fa8a",
   "metadata": {},
   "outputs": [
    {
     "data": {
      "text/html": [
       "<div>\n",
       "<style scoped>\n",
       "    .dataframe tbody tr th:only-of-type {\n",
       "        vertical-align: middle;\n",
       "    }\n",
       "\n",
       "    .dataframe tbody tr th {\n",
       "        vertical-align: top;\n",
       "    }\n",
       "\n",
       "    .dataframe thead th {\n",
       "        text-align: right;\n",
       "    }\n",
       "</style>\n",
       "<table border=\"1\" class=\"dataframe\">\n",
       "  <thead>\n",
       "    <tr style=\"text-align: right;\">\n",
       "      <th></th>\n",
       "      <th>age</th>\n",
       "      <th>damage_grade</th>\n",
       "    </tr>\n",
       "  </thead>\n",
       "  <tbody>\n",
       "    <tr>\n",
       "      <th>age</th>\n",
       "      <td>1.000000</td>\n",
       "      <td>0.029273</td>\n",
       "    </tr>\n",
       "    <tr>\n",
       "      <th>damage_grade</th>\n",
       "      <td>0.029273</td>\n",
       "      <td>1.000000</td>\n",
       "    </tr>\n",
       "  </tbody>\n",
       "</table>\n",
       "</div>"
      ],
      "text/plain": [
       "                   age  damage_grade\n",
       "age           1.000000      0.029273\n",
       "damage_grade  0.029273      1.000000"
      ]
     },
     "execution_count": 120,
     "metadata": {},
     "output_type": "execute_result"
    }
   ],
   "source": [
    "earthquake_complete[cols].corr()"
   ]
  },
  {
   "cell_type": "code",
   "execution_count": 121,
   "id": "4b1f3b06",
   "metadata": {
    "scrolled": true
   },
   "outputs": [
    {
     "data": {
      "text/plain": [
       "<AxesSubplot:xlabel='damage_grade', ylabel='age'>"
      ]
     },
     "execution_count": 121,
     "metadata": {},
     "output_type": "execute_result"
    },
    {
     "data": {
      "image/png": "[encoded data removed]",
      "text/plain": [
       "<Figure size 432x288 with 1 Axes>"
      ]
     },
     "metadata": {
      "needs_background": "light"
     },
     "output_type": "display_data"
    },
    {
     "data": {
      "image/png": "[encoded data removed]",
      "text/plain": [
       "<Figure size 504x360 with 1 Axes>"
      ]
     },
     "metadata": {
      "needs_background": "light"
     },
     "output_type": "display_data"
    }
   ],
   "source": [
    "earthquake_complete[cols].corr().plot()\n",
    "earthquake_complete.plot.scatter(x='damage_grade', y='age', marker='o', figsize=(7,5))"
   ]
  },
  {
   "cell_type": "markdown",
   "id": "1839e72f",
   "metadata": {},
   "source": [
    "## As per the correlation and scatter plot between 'age' and 'damage_grade', building age does not play a role in damage grade.\n"
   ]
  },
  {
   "cell_type": "markdown",
   "id": "42bfccad",
   "metadata": {},
   "source": [
    "# Question 4: Are the engineered or non-engineered structures most affected?"
   ]
  },
  {
   "cell_type": "code",
   "execution_count": 122,
   "id": "d00dcb47",
   "metadata": {},
   "outputs": [
    {
     "data": {
      "text/html": [
       "<div>\n",
       "<style scoped>\n",
       "    .dataframe tbody tr th:only-of-type {\n",
       "        vertical-align: middle;\n",
       "    }\n",
       "\n",
       "    .dataframe tbody tr th {\n",
       "        vertical-align: top;\n",
       "    }\n",
       "\n",
       "    .dataframe thead th {\n",
       "        text-align: right;\n",
       "    }\n",
       "</style>\n",
       "<table border=\"1\" class=\"dataframe\">\n",
       "  <thead>\n",
       "    <tr style=\"text-align: right;\">\n",
       "      <th></th>\n",
       "      <th>has_superstructure_rc_engineered</th>\n",
       "      <th>has_superstructure_rc_non_engineered</th>\n",
       "      <th>damage_grade</th>\n",
       "    </tr>\n",
       "  </thead>\n",
       "  <tbody>\n",
       "    <tr>\n",
       "      <th>0</th>\n",
       "      <td>0</td>\n",
       "      <td>0</td>\n",
       "      <td>3</td>\n",
       "    </tr>\n",
       "    <tr>\n",
       "      <th>1</th>\n",
       "      <td>0</td>\n",
       "      <td>0</td>\n",
       "      <td>2</td>\n",
       "    </tr>\n",
       "    <tr>\n",
       "      <th>2</th>\n",
       "      <td>0</td>\n",
       "      <td>0</td>\n",
       "      <td>3</td>\n",
       "    </tr>\n",
       "    <tr>\n",
       "      <th>3</th>\n",
       "      <td>0</td>\n",
       "      <td>0</td>\n",
       "      <td>2</td>\n",
       "    </tr>\n",
       "    <tr>\n",
       "      <th>4</th>\n",
       "      <td>0</td>\n",
       "      <td>0</td>\n",
       "      <td>3</td>\n",
       "    </tr>\n",
       "  </tbody>\n",
       "</table>\n",
       "</div>"
      ],
      "text/plain": [
       "   has_superstructure_rc_engineered  has_superstructure_rc_non_engineered  \\\n",
       "0                                 0                                     0   \n",
       "1                                 0                                     0   \n",
       "2                                 0                                     0   \n",
       "3                                 0                                     0   \n",
       "4                                 0                                     0   \n",
       "\n",
       "   damage_grade  \n",
       "0             3  \n",
       "1             2  \n",
       "2             3  \n",
       "3             2  \n",
       "4             3  "
      ]
     },
     "execution_count": 122,
     "metadata": {},
     "output_type": "execute_result"
    }
   ],
   "source": [
    "df_re= earthquake_complete.reindex(columns=[\"has_superstructure_rc_engineered\", \"has_superstructure_rc_non_engineered\", \"damage_grade\"])\n",
    "df_re.head()"
   ]
  },
  {
   "cell_type": "code",
   "execution_count": 123,
   "id": "5cf9ce4b",
   "metadata": {},
   "outputs": [
    {
     "data": {
      "text/html": [
       "<div>\n",
       "<style scoped>\n",
       "    .dataframe tbody tr th:only-of-type {\n",
       "        vertical-align: middle;\n",
       "    }\n",
       "\n",
       "    .dataframe tbody tr th {\n",
       "        vertical-align: top;\n",
       "    }\n",
       "\n",
       "    .dataframe thead th {\n",
       "        text-align: right;\n",
       "    }\n",
       "</style>\n",
       "<table border=\"1\" class=\"dataframe\">\n",
       "  <thead>\n",
       "    <tr style=\"text-align: right;\">\n",
       "      <th></th>\n",
       "      <th>has_superstructure_rc_engineered</th>\n",
       "    </tr>\n",
       "    <tr>\n",
       "      <th>damage_grade</th>\n",
       "      <th></th>\n",
       "    </tr>\n",
       "  </thead>\n",
       "  <tbody>\n",
       "    <tr>\n",
       "      <th>1</th>\n",
       "      <td>2656</td>\n",
       "    </tr>\n",
       "    <tr>\n",
       "      <th>2</th>\n",
       "      <td>1402</td>\n",
       "    </tr>\n",
       "    <tr>\n",
       "      <th>3</th>\n",
       "      <td>75</td>\n",
       "    </tr>\n",
       "  </tbody>\n",
       "</table>\n",
       "</div>"
      ],
      "text/plain": [
       "              has_superstructure_rc_engineered\n",
       "damage_grade                                  \n",
       "1                                         2656\n",
       "2                                         1402\n",
       "3                                           75"
      ]
     },
     "execution_count": 123,
     "metadata": {},
     "output_type": "execute_result"
    }
   ],
   "source": [
    "df_re = earthquake_complete[earthquake_complete[\"has_superstructure_rc_engineered\"] == 1]\n",
    "df_gb_rc = df_re.groupby('damage_grade').agg({'has_superstructure_rc_engineered': 'count' })\n",
    "df_gb_rc"
   ]
  },
  {
   "cell_type": "code",
   "execution_count": 124,
   "id": "1411ec7f",
   "metadata": {},
   "outputs": [
    {
     "data": {
      "text/html": [
       "<div>\n",
       "<style scoped>\n",
       "    .dataframe tbody tr th:only-of-type {\n",
       "        vertical-align: middle;\n",
       "    }\n",
       "\n",
       "    .dataframe tbody tr th {\n",
       "        vertical-align: top;\n",
       "    }\n",
       "\n",
       "    .dataframe thead th {\n",
       "        text-align: right;\n",
       "    }\n",
       "</style>\n",
       "<table border=\"1\" class=\"dataframe\">\n",
       "  <thead>\n",
       "    <tr style=\"text-align: right;\">\n",
       "      <th></th>\n",
       "      <th>has_superstructure_rc_non_engineered</th>\n",
       "    </tr>\n",
       "    <tr>\n",
       "      <th>damage_grade</th>\n",
       "      <th></th>\n",
       "    </tr>\n",
       "  </thead>\n",
       "  <tbody>\n",
       "    <tr>\n",
       "      <th>1</th>\n",
       "      <td>3857</td>\n",
       "    </tr>\n",
       "    <tr>\n",
       "      <th>2</th>\n",
       "      <td>5832</td>\n",
       "    </tr>\n",
       "    <tr>\n",
       "      <th>3</th>\n",
       "      <td>1410</td>\n",
       "    </tr>\n",
       "  </tbody>\n",
       "</table>\n",
       "</div>"
      ],
      "text/plain": [
       "              has_superstructure_rc_non_engineered\n",
       "damage_grade                                      \n",
       "1                                             3857\n",
       "2                                             5832\n",
       "3                                             1410"
      ]
     },
     "execution_count": 124,
     "metadata": {},
     "output_type": "execute_result"
    }
   ],
   "source": [
    "df_re_2 = earthquake_complete[earthquake_complete[\"has_superstructure_rc_non_engineered\"] == 1]\n",
    "df_gb_n_rc = df_re_2.groupby('damage_grade').agg({'has_superstructure_rc_non_engineered': 'count' })\n",
    "df_gb_n_rc"
   ]
  },
  {
   "cell_type": "code",
   "execution_count": 125,
   "id": "bb68b75e",
   "metadata": {},
   "outputs": [
    {
     "data": {
      "text/html": [
       "<div>\n",
       "<style scoped>\n",
       "    .dataframe tbody tr th:only-of-type {\n",
       "        vertical-align: middle;\n",
       "    }\n",
       "\n",
       "    .dataframe tbody tr th {\n",
       "        vertical-align: top;\n",
       "    }\n",
       "\n",
       "    .dataframe thead th {\n",
       "        text-align: right;\n",
       "    }\n",
       "</style>\n",
       "<table border=\"1\" class=\"dataframe\">\n",
       "  <thead>\n",
       "    <tr style=\"text-align: right;\">\n",
       "      <th></th>\n",
       "      <th>has_superstructure_rc_engineered</th>\n",
       "      <th>has_superstructure_rc_non_engineered</th>\n",
       "    </tr>\n",
       "    <tr>\n",
       "      <th>damage_grade</th>\n",
       "      <th></th>\n",
       "      <th></th>\n",
       "    </tr>\n",
       "  </thead>\n",
       "  <tbody>\n",
       "    <tr>\n",
       "      <th>1</th>\n",
       "      <td>2656</td>\n",
       "      <td>3857</td>\n",
       "    </tr>\n",
       "    <tr>\n",
       "      <th>2</th>\n",
       "      <td>1402</td>\n",
       "      <td>5832</td>\n",
       "    </tr>\n",
       "    <tr>\n",
       "      <th>3</th>\n",
       "      <td>75</td>\n",
       "      <td>1410</td>\n",
       "    </tr>\n",
       "  </tbody>\n",
       "</table>\n",
       "</div>"
      ],
      "text/plain": [
       "              has_superstructure_rc_engineered  \\\n",
       "damage_grade                                     \n",
       "1                                         2656   \n",
       "2                                         1402   \n",
       "3                                           75   \n",
       "\n",
       "              has_superstructure_rc_non_engineered  \n",
       "damage_grade                                        \n",
       "1                                             3857  \n",
       "2                                             5832  \n",
       "3                                             1410  "
      ]
     },
     "execution_count": 125,
     "metadata": {},
     "output_type": "execute_result"
    }
   ],
   "source": [
    "df_final = pd.merge(df_gb_rc, df_gb_n_rc, left_index=True, right_index=True)\n",
    "df_final"
   ]
  },
  {
   "cell_type": "code",
   "execution_count": 126,
   "id": "c77d7dc4",
   "metadata": {},
   "outputs": [
    {
     "data": {
      "text/plain": [
       "<AxesSubplot:xlabel='damage_grade'>"
      ]
     },
     "execution_count": 126,
     "metadata": {},
     "output_type": "execute_result"
    },
    {
     "data": {
      "image/png": "[encoded data removed]",
      "text/plain": [
       "<Figure size 432x288 with 1 Axes>"
      ]
     },
     "metadata": {
      "needs_background": "light"
     },
     "output_type": "display_data"
    }
   ],
   "source": [
    "df_final = df_final.reset_index()\n",
    "df_final.plot(x=\"damage_grade\", y=[\"has_superstructure_rc_engineered\", \"has_superstructure_rc_non_engineered\"], kind=\"bar\")"
   ]
  },
  {
   "cell_type": "markdown",
   "id": "b766c020",
   "metadata": {},
   "source": [
    "## The most intolerant buildings to earthquakes are those who have non-engineered super structure."
   ]
  },
  {
   "cell_type": "markdown",
   "id": "fe6427ab",
   "metadata": {},
   "source": [
    "# Question 5: Does the superstructure matter in tolerating earthquake?"
   ]
  },
  {
   "cell_type": "code",
   "execution_count": 127,
   "id": "f05baff1",
   "metadata": {},
   "outputs": [
    {
     "data": {
      "text/plain": [
       "<seaborn.axisgrid.FacetGrid at 0x2a8b1d96530>"
      ]
     },
     "execution_count": 127,
     "metadata": {},
     "output_type": "execute_result"
    },
    {
     "data": {
      "image/png": "[encoded data removed]",
      "text/plain": [
       "<Figure size 1440x360 with 2 Axes>"
      ]
     },
     "metadata": {
      "needs_background": "light"
     },
     "output_type": "display_data"
    }
   ],
   "source": [
    "sns.displot(data=earthquake_complete, col='has_superstructure_adobe_mud', col_wrap=4, x='damage_grade').set(xticks=[1,2,3])\n"
   ]
  },
  {
   "cell_type": "code",
   "execution_count": 128,
   "id": "aa2a90fe",
   "metadata": {},
   "outputs": [
    {
     "data": {
      "text/plain": [
       "<seaborn.axisgrid.FacetGrid at 0x2a8b1daf400>"
      ]
     },
     "execution_count": 128,
     "metadata": {},
     "output_type": "execute_result"
    },
    {
     "data": {
      "image/png": "[encoded data removed]",
      "text/plain": [
       "<Figure size 1440x360 with 2 Axes>"
      ]
     },
     "metadata": {
      "needs_background": "light"
     },
     "output_type": "display_data"
    }
   ],
   "source": [
    "sns.displot(data=earthquake_complete, col='has_superstructure_mud_mortar_stone', col_wrap=4, x='damage_grade').set(xticks=[1,2,3])"
   ]
  },
  {
   "cell_type": "code",
   "execution_count": 129,
   "id": "f3a52970",
   "metadata": {},
   "outputs": [
    {
     "data": {
      "text/plain": [
       "<seaborn.axisgrid.FacetGrid at 0x2a8b7e7df00>"
      ]
     },
     "execution_count": 129,
     "metadata": {},
     "output_type": "execute_result"
    },
    {
     "data": {
      "image/png": "[encoded data removed]",
      "text/plain": [
       "<Figure size 1440x360 with 2 Axes>"
      ]
     },
     "metadata": {
      "needs_background": "light"
     },
     "output_type": "display_data"
    }
   ],
   "source": [
    "sns.displot(data=earthquake_complete, col='has_superstructure_stone_flag', col_wrap=4, x='damage_grade').set(xticks=[1,2,3])\n"
   ]
  },
  {
   "cell_type": "code",
   "execution_count": 130,
   "id": "8f0adcd1",
   "metadata": {},
   "outputs": [
    {
     "data": {
      "text/plain": [
       "<seaborn.axisgrid.FacetGrid at 0x2a8b7e7df60>"
      ]
     },
     "execution_count": 130,
     "metadata": {},
     "output_type": "execute_result"
    },
    {
     "data": {
      "image/png": "[encoded data removed]",
      "text/plain": [
       "<Figure size 1440x360 with 2 Axes>"
      ]
     },
     "metadata": {
      "needs_background": "light"
     },
     "output_type": "display_data"
    }
   ],
   "source": [
    "sns.displot(data=earthquake_complete, col='has_superstructure_cement_mortar_stone', col_wrap=4, x='damage_grade').set(xticks=[1,2,3])\n"
   ]
  },
  {
   "cell_type": "code",
   "execution_count": 131,
   "id": "921ed56e",
   "metadata": {},
   "outputs": [
    {
     "data": {
      "text/plain": [
       "<seaborn.axisgrid.FacetGrid at 0x2a8b7d5f4c0>"
      ]
     },
     "execution_count": 131,
     "metadata": {},
     "output_type": "execute_result"
    },
    {
     "data": {
      "image/png": "[encoded data removed]",
      "text/plain": [
       "<Figure size 1440x360 with 2 Axes>"
      ]
     },
     "metadata": {
      "needs_background": "light"
     },
     "output_type": "display_data"
    }
   ],
   "source": [
    "sns.displot(data=earthquake_complete, col='has_superstructure_mud_mortar_brick', col_wrap=4, x='damage_grade').set(xticks=[1,2,3])"
   ]
  },
  {
   "cell_type": "code",
   "execution_count": 132,
   "id": "9bb38066",
   "metadata": {},
   "outputs": [
    {
     "data": {
      "text/plain": [
       "<seaborn.axisgrid.FacetGrid at 0x2a8b1daf8e0>"
      ]
     },
     "execution_count": 132,
     "metadata": {},
     "output_type": "execute_result"
    },
    {
     "data": {
      "image/png": "[encoded data removed]",
      "text/plain": [
       "<Figure size 1440x360 with 2 Axes>"
      ]
     },
     "metadata": {
      "needs_background": "light"
     },
     "output_type": "display_data"
    }
   ],
   "source": [
    "sns.displot(data=earthquake_complete, col='has_superstructure_timber', col_wrap=4, x='damage_grade').set(xticks=[1,2,3])"
   ]
  },
  {
   "cell_type": "code",
   "execution_count": 133,
   "id": "750c7d04",
   "metadata": {},
   "outputs": [
    {
     "data": {
      "text/plain": [
       "<seaborn.axisgrid.FacetGrid at 0x2a8c7a97700>"
      ]
     },
     "execution_count": 133,
     "metadata": {},
     "output_type": "execute_result"
    },
    {
     "data": {
      "image/png": "[encoded data removed]",
      "text/plain": [
       "<Figure size 1440x360 with 2 Axes>"
      ]
     },
     "metadata": {
      "needs_background": "light"
     },
     "output_type": "display_data"
    }
   ],
   "source": [
    "sns.displot(data=earthquake_complete, col='has_superstructure_bamboo', col_wrap=4, x='damage_grade').set(xticks=[1,2,3])"
   ]
  },
  {
   "cell_type": "code",
   "execution_count": 134,
   "id": "a0d94ab7",
   "metadata": {},
   "outputs": [
    {
     "data": {
      "text/plain": [
       "<seaborn.axisgrid.FacetGrid at 0x2a8b11f7820>"
      ]
     },
     "execution_count": 134,
     "metadata": {},
     "output_type": "execute_result"
    },
    {
     "data": {
      "image/png": "[encoded data removed]",
      "text/plain": [
       "<Figure size 1440x360 with 2 Axes>"
      ]
     },
     "metadata": {
      "needs_background": "light"
     },
     "output_type": "display_data"
    }
   ],
   "source": [
    "sns.displot(data=earthquake_complete, col='has_superstructure_other', col_wrap=4, x='damage_grade').set(xticks=[1,2,3])"
   ]
  },
  {
   "cell_type": "markdown",
   "id": "b3ad841c",
   "metadata": {},
   "source": [
    "## From the above graphs we come to know that superstructure really matters with the damage grade. The best super structure to use is 'has_super_structure_cement_mortar_stone' whereas the least tolerant is 'has_super_structure_mud_mortar_stone'."
   ]
  },
  {
   "cell_type": "markdown",
   "id": "cc340bb6",
   "metadata": {},
   "source": [
    "# Question 6: What is the correlation of land surface condition, position, area and height percentage?"
   ]
  },
  {
   "cell_type": "code",
   "execution_count": 135,
   "id": "513cd225",
   "metadata": {},
   "outputs": [],
   "source": [
    "# Setting values to our convinence as it is impossible to get the correlation between numerical and categorical values\n",
    "cleanup_num={\"land_surface_condition\": {\"t\": 1, \"n\": 2, \"o\":3 },\n",
    "            \"position\": {\"s\": 4, \"t\": 5, \"j\": 6, \"o\": 7 }}"
   ]
  },
  {
   "cell_type": "code",
   "execution_count": 136,
   "id": "2f21aa99",
   "metadata": {},
   "outputs": [
    {
     "data": {
      "text/html": [
       "<div>\n",
       "<style scoped>\n",
       "    .dataframe tbody tr th:only-of-type {\n",
       "        vertical-align: middle;\n",
       "    }\n",
       "\n",
       "    .dataframe tbody tr th {\n",
       "        vertical-align: top;\n",
       "    }\n",
       "\n",
       "    .dataframe thead th {\n",
       "        text-align: right;\n",
       "    }\n",
       "</style>\n",
       "<table border=\"1\" class=\"dataframe\">\n",
       "  <thead>\n",
       "    <tr style=\"text-align: right;\">\n",
       "      <th></th>\n",
       "      <th>building_id</th>\n",
       "      <th>geo_level_1_id</th>\n",
       "      <th>geo_level_2_id</th>\n",
       "      <th>geo_level_3_id</th>\n",
       "      <th>count_floors_pre_eq</th>\n",
       "      <th>age</th>\n",
       "      <th>area_percentage</th>\n",
       "      <th>height_percentage</th>\n",
       "      <th>land_surface_condition</th>\n",
       "      <th>foundation_type</th>\n",
       "      <th>...</th>\n",
       "      <th>has_secondary_use_hotel</th>\n",
       "      <th>has_secondary_use_rental</th>\n",
       "      <th>has_secondary_use_institution</th>\n",
       "      <th>has_secondary_use_school</th>\n",
       "      <th>has_secondary_use_industry</th>\n",
       "      <th>has_secondary_use_health_post</th>\n",
       "      <th>has_secondary_use_gov_office</th>\n",
       "      <th>has_secondary_use_use_police</th>\n",
       "      <th>has_secondary_use_other</th>\n",
       "      <th>damage_grade</th>\n",
       "    </tr>\n",
       "  </thead>\n",
       "  <tbody>\n",
       "    <tr>\n",
       "      <th>0</th>\n",
       "      <td>802906</td>\n",
       "      <td>6</td>\n",
       "      <td>487</td>\n",
       "      <td>12198</td>\n",
       "      <td>2</td>\n",
       "      <td>30</td>\n",
       "      <td>6</td>\n",
       "      <td>5</td>\n",
       "      <td>1</td>\n",
       "      <td>r</td>\n",
       "      <td>...</td>\n",
       "      <td>0</td>\n",
       "      <td>0</td>\n",
       "      <td>0</td>\n",
       "      <td>0</td>\n",
       "      <td>0</td>\n",
       "      <td>0</td>\n",
       "      <td>0</td>\n",
       "      <td>0</td>\n",
       "      <td>0</td>\n",
       "      <td>3</td>\n",
       "    </tr>\n",
       "    <tr>\n",
       "      <th>1</th>\n",
       "      <td>28830</td>\n",
       "      <td>8</td>\n",
       "      <td>900</td>\n",
       "      <td>2812</td>\n",
       "      <td>2</td>\n",
       "      <td>10</td>\n",
       "      <td>8</td>\n",
       "      <td>7</td>\n",
       "      <td>3</td>\n",
       "      <td>r</td>\n",
       "      <td>...</td>\n",
       "      <td>0</td>\n",
       "      <td>0</td>\n",
       "      <td>0</td>\n",
       "      <td>0</td>\n",
       "      <td>0</td>\n",
       "      <td>0</td>\n",
       "      <td>0</td>\n",
       "      <td>0</td>\n",
       "      <td>0</td>\n",
       "      <td>2</td>\n",
       "    </tr>\n",
       "    <tr>\n",
       "      <th>2</th>\n",
       "      <td>94947</td>\n",
       "      <td>21</td>\n",
       "      <td>363</td>\n",
       "      <td>8973</td>\n",
       "      <td>2</td>\n",
       "      <td>10</td>\n",
       "      <td>5</td>\n",
       "      <td>5</td>\n",
       "      <td>1</td>\n",
       "      <td>r</td>\n",
       "      <td>...</td>\n",
       "      <td>0</td>\n",
       "      <td>0</td>\n",
       "      <td>0</td>\n",
       "      <td>0</td>\n",
       "      <td>0</td>\n",
       "      <td>0</td>\n",
       "      <td>0</td>\n",
       "      <td>0</td>\n",
       "      <td>0</td>\n",
       "      <td>3</td>\n",
       "    </tr>\n",
       "    <tr>\n",
       "      <th>3</th>\n",
       "      <td>590882</td>\n",
       "      <td>22</td>\n",
       "      <td>418</td>\n",
       "      <td>10694</td>\n",
       "      <td>2</td>\n",
       "      <td>10</td>\n",
       "      <td>6</td>\n",
       "      <td>5</td>\n",
       "      <td>1</td>\n",
       "      <td>r</td>\n",
       "      <td>...</td>\n",
       "      <td>0</td>\n",
       "      <td>0</td>\n",
       "      <td>0</td>\n",
       "      <td>0</td>\n",
       "      <td>0</td>\n",
       "      <td>0</td>\n",
       "      <td>0</td>\n",
       "      <td>0</td>\n",
       "      <td>0</td>\n",
       "      <td>2</td>\n",
       "    </tr>\n",
       "    <tr>\n",
       "      <th>4</th>\n",
       "      <td>201944</td>\n",
       "      <td>11</td>\n",
       "      <td>131</td>\n",
       "      <td>1488</td>\n",
       "      <td>3</td>\n",
       "      <td>30</td>\n",
       "      <td>8</td>\n",
       "      <td>9</td>\n",
       "      <td>1</td>\n",
       "      <td>r</td>\n",
       "      <td>...</td>\n",
       "      <td>0</td>\n",
       "      <td>0</td>\n",
       "      <td>0</td>\n",
       "      <td>0</td>\n",
       "      <td>0</td>\n",
       "      <td>0</td>\n",
       "      <td>0</td>\n",
       "      <td>0</td>\n",
       "      <td>0</td>\n",
       "      <td>3</td>\n",
       "    </tr>\n",
       "    <tr>\n",
       "      <th>...</th>\n",
       "      <td>...</td>\n",
       "      <td>...</td>\n",
       "      <td>...</td>\n",
       "      <td>...</td>\n",
       "      <td>...</td>\n",
       "      <td>...</td>\n",
       "      <td>...</td>\n",
       "      <td>...</td>\n",
       "      <td>...</td>\n",
       "      <td>...</td>\n",
       "      <td>...</td>\n",
       "      <td>...</td>\n",
       "      <td>...</td>\n",
       "      <td>...</td>\n",
       "      <td>...</td>\n",
       "      <td>...</td>\n",
       "      <td>...</td>\n",
       "      <td>...</td>\n",
       "      <td>...</td>\n",
       "      <td>...</td>\n",
       "      <td>...</td>\n",
       "    </tr>\n",
       "    <tr>\n",
       "      <th>260596</th>\n",
       "      <td>688636</td>\n",
       "      <td>25</td>\n",
       "      <td>1335</td>\n",
       "      <td>1621</td>\n",
       "      <td>1</td>\n",
       "      <td>55</td>\n",
       "      <td>6</td>\n",
       "      <td>3</td>\n",
       "      <td>2</td>\n",
       "      <td>r</td>\n",
       "      <td>...</td>\n",
       "      <td>0</td>\n",
       "      <td>0</td>\n",
       "      <td>0</td>\n",
       "      <td>0</td>\n",
       "      <td>0</td>\n",
       "      <td>0</td>\n",
       "      <td>0</td>\n",
       "      <td>0</td>\n",
       "      <td>0</td>\n",
       "      <td>2</td>\n",
       "    </tr>\n",
       "    <tr>\n",
       "      <th>260597</th>\n",
       "      <td>669485</td>\n",
       "      <td>17</td>\n",
       "      <td>715</td>\n",
       "      <td>2060</td>\n",
       "      <td>2</td>\n",
       "      <td>0</td>\n",
       "      <td>6</td>\n",
       "      <td>5</td>\n",
       "      <td>1</td>\n",
       "      <td>r</td>\n",
       "      <td>...</td>\n",
       "      <td>0</td>\n",
       "      <td>0</td>\n",
       "      <td>0</td>\n",
       "      <td>0</td>\n",
       "      <td>0</td>\n",
       "      <td>0</td>\n",
       "      <td>0</td>\n",
       "      <td>0</td>\n",
       "      <td>0</td>\n",
       "      <td>3</td>\n",
       "    </tr>\n",
       "    <tr>\n",
       "      <th>260598</th>\n",
       "      <td>602512</td>\n",
       "      <td>17</td>\n",
       "      <td>51</td>\n",
       "      <td>8163</td>\n",
       "      <td>3</td>\n",
       "      <td>55</td>\n",
       "      <td>6</td>\n",
       "      <td>7</td>\n",
       "      <td>1</td>\n",
       "      <td>r</td>\n",
       "      <td>...</td>\n",
       "      <td>0</td>\n",
       "      <td>0</td>\n",
       "      <td>0</td>\n",
       "      <td>0</td>\n",
       "      <td>0</td>\n",
       "      <td>0</td>\n",
       "      <td>0</td>\n",
       "      <td>0</td>\n",
       "      <td>0</td>\n",
       "      <td>3</td>\n",
       "    </tr>\n",
       "    <tr>\n",
       "      <th>260599</th>\n",
       "      <td>151409</td>\n",
       "      <td>26</td>\n",
       "      <td>39</td>\n",
       "      <td>1851</td>\n",
       "      <td>2</td>\n",
       "      <td>10</td>\n",
       "      <td>14</td>\n",
       "      <td>6</td>\n",
       "      <td>1</td>\n",
       "      <td>r</td>\n",
       "      <td>...</td>\n",
       "      <td>0</td>\n",
       "      <td>0</td>\n",
       "      <td>0</td>\n",
       "      <td>0</td>\n",
       "      <td>0</td>\n",
       "      <td>0</td>\n",
       "      <td>0</td>\n",
       "      <td>0</td>\n",
       "      <td>0</td>\n",
       "      <td>2</td>\n",
       "    </tr>\n",
       "    <tr>\n",
       "      <th>260600</th>\n",
       "      <td>747594</td>\n",
       "      <td>21</td>\n",
       "      <td>9</td>\n",
       "      <td>9101</td>\n",
       "      <td>3</td>\n",
       "      <td>10</td>\n",
       "      <td>7</td>\n",
       "      <td>6</td>\n",
       "      <td>2</td>\n",
       "      <td>r</td>\n",
       "      <td>...</td>\n",
       "      <td>0</td>\n",
       "      <td>0</td>\n",
       "      <td>0</td>\n",
       "      <td>0</td>\n",
       "      <td>0</td>\n",
       "      <td>0</td>\n",
       "      <td>0</td>\n",
       "      <td>0</td>\n",
       "      <td>0</td>\n",
       "      <td>3</td>\n",
       "    </tr>\n",
       "  </tbody>\n",
       "</table>\n",
       "<p>260601 rows × 40 columns</p>\n",
       "</div>"
      ],
      "text/plain": [
       "        building_id  geo_level_1_id  geo_level_2_id  geo_level_3_id  \\\n",
       "0            802906               6             487           12198   \n",
       "1             28830               8             900            2812   \n",
       "2             94947              21             363            8973   \n",
       "3            590882              22             418           10694   \n",
       "4            201944              11             131            1488   \n",
       "...             ...             ...             ...             ...   \n",
       "260596       688636              25            1335            1621   \n",
       "260597       669485              17             715            2060   \n",
       "260598       602512              17              51            8163   \n",
       "260599       151409              26              39            1851   \n",
       "260600       747594              21               9            9101   \n",
       "\n",
       "        count_floors_pre_eq  age  area_percentage  height_percentage  \\\n",
       "0                         2   30                6                  5   \n",
       "1                         2   10                8                  7   \n",
       "2                         2   10                5                  5   \n",
       "3                         2   10                6                  5   \n",
       "4                         3   30                8                  9   \n",
       "...                     ...  ...              ...                ...   \n",
       "260596                    1   55                6                  3   \n",
       "260597                    2    0                6                  5   \n",
       "260598                    3   55                6                  7   \n",
       "260599                    2   10               14                  6   \n",
       "260600                    3   10                7                  6   \n",
       "\n",
       "        land_surface_condition foundation_type  ... has_secondary_use_hotel  \\\n",
       "0                            1               r  ...                       0   \n",
       "1                            3               r  ...                       0   \n",
       "2                            1               r  ...                       0   \n",
       "3                            1               r  ...                       0   \n",
       "4                            1               r  ...                       0   \n",
       "...                        ...             ...  ...                     ...   \n",
       "260596                       2               r  ...                       0   \n",
       "260597                       1               r  ...                       0   \n",
       "260598                       1               r  ...                       0   \n",
       "260599                       1               r  ...                       0   \n",
       "260600                       2               r  ...                       0   \n",
       "\n",
       "       has_secondary_use_rental has_secondary_use_institution  \\\n",
       "0                             0                             0   \n",
       "1                             0                             0   \n",
       "2                             0                             0   \n",
       "3                             0                             0   \n",
       "4                             0                             0   \n",
       "...                         ...                           ...   \n",
       "260596                        0                             0   \n",
       "260597                        0                             0   \n",
       "260598                        0                             0   \n",
       "260599                        0                             0   \n",
       "260600                        0                             0   \n",
       "\n",
       "        has_secondary_use_school has_secondary_use_industry  \\\n",
       "0                              0                          0   \n",
       "1                              0                          0   \n",
       "2                              0                          0   \n",
       "3                              0                          0   \n",
       "4                              0                          0   \n",
       "...                          ...                        ...   \n",
       "260596                         0                          0   \n",
       "260597                         0                          0   \n",
       "260598                         0                          0   \n",
       "260599                         0                          0   \n",
       "260600                         0                          0   \n",
       "\n",
       "        has_secondary_use_health_post  has_secondary_use_gov_office  \\\n",
       "0                                   0                             0   \n",
       "1                                   0                             0   \n",
       "2                                   0                             0   \n",
       "3                                   0                             0   \n",
       "4                                   0                             0   \n",
       "...                               ...                           ...   \n",
       "260596                              0                             0   \n",
       "260597                              0                             0   \n",
       "260598                              0                             0   \n",
       "260599                              0                             0   \n",
       "260600                              0                             0   \n",
       "\n",
       "        has_secondary_use_use_police  has_secondary_use_other  damage_grade  \n",
       "0                                  0                        0             3  \n",
       "1                                  0                        0             2  \n",
       "2                                  0                        0             3  \n",
       "3                                  0                        0             2  \n",
       "4                                  0                        0             3  \n",
       "...                              ...                      ...           ...  \n",
       "260596                             0                        0             2  \n",
       "260597                             0                        0             3  \n",
       "260598                             0                        0             3  \n",
       "260599                             0                        0             2  \n",
       "260600                             0                        0             3  \n",
       "\n",
       "[260601 rows x 40 columns]"
      ]
     },
     "execution_count": 136,
     "metadata": {},
     "output_type": "execute_result"
    }
   ],
   "source": [
    "earthquake_complete = earthquake_complete.replace(cleanup_num)\n",
    "earthquake_complete"
   ]
  },
  {
   "cell_type": "code",
   "execution_count": 137,
   "id": "5cba241d",
   "metadata": {},
   "outputs": [
    {
     "data": {
      "text/plain": [
       "area_percentage          -0.125221\n",
       "height_percentage         0.048130\n",
       "land_surface_condition    0.017386\n",
       "position                  0.005954\n",
       "damage_grade              1.000000\n",
       "Name: damage_grade, dtype: float64"
      ]
     },
     "execution_count": 137,
     "metadata": {},
     "output_type": "execute_result"
    }
   ],
   "source": [
    "earthquake_complete[['area_percentage', 'height_percentage','land_surface_condition','position', 'damage_grade']].corr()['damage_grade']"
   ]
  },
  {
   "cell_type": "markdown",
   "id": "b82f7230",
   "metadata": {},
   "source": [
    "## The correlation shows that the least related is the 'area_percentage' as it does not affect the 'damage_grade' of buildings whereas,'height_percentage' and 'land_surface_condition' have somewhat strong correlation to 'damage_grade' of the buildings highly affected by earthquake."
   ]
  },
  {
   "cell_type": "markdown",
   "id": "14363791",
   "metadata": {},
   "source": [
    "# Question 7: How many lives are at risk and need immediate response?"
   ]
  },
  {
   "cell_type": "code",
   "execution_count": 138,
   "id": "445e65ab",
   "metadata": {},
   "outputs": [
    {
     "data": {
      "text/html": [
       "<div>\n",
       "<style scoped>\n",
       "    .dataframe tbody tr th:only-of-type {\n",
       "        vertical-align: middle;\n",
       "    }\n",
       "\n",
       "    .dataframe tbody tr th {\n",
       "        vertical-align: top;\n",
       "    }\n",
       "\n",
       "    .dataframe thead th {\n",
       "        text-align: right;\n",
       "    }\n",
       "</style>\n",
       "<table border=\"1\" class=\"dataframe\">\n",
       "  <thead>\n",
       "    <tr style=\"text-align: right;\">\n",
       "      <th></th>\n",
       "      <th>family_number</th>\n",
       "      <th>family_count</th>\n",
       "    </tr>\n",
       "  </thead>\n",
       "  <tbody>\n",
       "    <tr>\n",
       "      <th>0</th>\n",
       "      <td>1</td>\n",
       "      <td>76055</td>\n",
       "    </tr>\n",
       "    <tr>\n",
       "      <th>1</th>\n",
       "      <td>0</td>\n",
       "      <td>5838</td>\n",
       "    </tr>\n",
       "    <tr>\n",
       "      <th>2</th>\n",
       "      <td>2</td>\n",
       "      <td>4444</td>\n",
       "    </tr>\n",
       "    <tr>\n",
       "      <th>3</th>\n",
       "      <td>3</td>\n",
       "      <td>695</td>\n",
       "    </tr>\n",
       "    <tr>\n",
       "      <th>4</th>\n",
       "      <td>4</td>\n",
       "      <td>138</td>\n",
       "    </tr>\n",
       "    <tr>\n",
       "      <th>5</th>\n",
       "      <td>5</td>\n",
       "      <td>36</td>\n",
       "    </tr>\n",
       "    <tr>\n",
       "      <th>6</th>\n",
       "      <td>6</td>\n",
       "      <td>10</td>\n",
       "    </tr>\n",
       "    <tr>\n",
       "      <th>7</th>\n",
       "      <td>7</td>\n",
       "      <td>2</td>\n",
       "    </tr>\n",
       "  </tbody>\n",
       "</table>\n",
       "</div>"
      ],
      "text/plain": [
       "   family_number  family_count\n",
       "0              1         76055\n",
       "1              0          5838\n",
       "2              2          4444\n",
       "3              3           695\n",
       "4              4           138\n",
       "5              5            36\n",
       "6              6            10\n",
       "7              7             2"
      ]
     },
     "execution_count": 138,
     "metadata": {},
     "output_type": "execute_result"
    }
   ],
   "source": [
    "family = earthquake_complete[earthquake_complete['damage_grade'] == 3]['count_families'].value_counts()\n",
    "total = 0\n",
    "family_df = pd.DataFrame({'family_number': family.index, 'family_count': family.values})\n",
    "family_df"
   ]
  },
  {
   "cell_type": "code",
   "execution_count": 139,
   "id": "951b7d50",
   "metadata": {},
   "outputs": [
    {
     "data": {
      "text/plain": [
       "87834"
      ]
     },
     "execution_count": 139,
     "metadata": {},
     "output_type": "execute_result"
    }
   ],
   "source": [
    "family_df['total'] = family_df['family_number'] * family_df['family_count']\n",
    "family_df['total'].sum()"
   ]
  },
  {
   "cell_type": "markdown",
   "id": "0ba7c2e5",
   "metadata": {},
   "source": [
    "## The total number of people who need immediate response as being the most affected by the earthquake is 87,834."
   ]
  },
  {
   "cell_type": "markdown",
   "id": "846b3ef1",
   "metadata": {},
   "source": [
    "# Question 8: What geo level has sustained lesser damage?"
   ]
  },
  {
   "cell_type": "code",
   "execution_count": 140,
   "id": "e88c210e",
   "metadata": {},
   "outputs": [],
   "source": [
    "a = []\n",
    "b = []\n",
    "for i in earthquake_complete['geo_level_2_id'].unique():\n",
    "    df = earthquake_complete[earthquake_complete['geo_level_2_id'] == i]\n",
    "    a.append(i)\n",
    "    b.append(df['damage_grade'].mean())"
   ]
  },
  {
   "cell_type": "code",
   "execution_count": 141,
   "id": "c51eced0",
   "metadata": {},
   "outputs": [
    {
     "data": {
      "text/plain": [
       "<matplotlib.collections.PathCollection at 0x2a8f3739060>"
      ]
     },
     "execution_count": 141,
     "metadata": {},
     "output_type": "execute_result"
    },
    {
     "data": {
      "image/png": "[encoded data removed]",
      "text/plain": [
       "<Figure size 432x288 with 1 Axes>"
      ]
     },
     "metadata": {
      "needs_background": "light"
     },
     "output_type": "display_data"
    }
   ],
   "source": [
    "plt.scatter(a,b)"
   ]
  },
  {
   "cell_type": "code",
   "execution_count": 142,
   "id": "2ccfab32",
   "metadata": {},
   "outputs": [],
   "source": [
    "c=[]\n",
    "d=[]\n",
    "for i in earthquake_complete['geo_level_3_id'].unique():\n",
    "    df = earthquake_complete[earthquake_complete['geo_level_3_id'] == i]\n",
    "    c.append(i)\n",
    "    d.append(df['damage_grade'].mean())"
   ]
  },
  {
   "cell_type": "code",
   "execution_count": 143,
   "id": "81f4a4e5",
   "metadata": {},
   "outputs": [
    {
     "data": {
      "text/plain": [
       "<matplotlib.collections.PathCollection at 0x2a8c5c4a5f0>"
      ]
     },
     "execution_count": 143,
     "metadata": {},
     "output_type": "execute_result"
    },
    {
     "data": {
      "image/png": "[encoded data removed]",
      "text/plain": [
       "<Figure size 432x288 with 1 Axes>"
      ]
     },
     "metadata": {
      "needs_background": "light"
     },
     "output_type": "display_data"
    }
   ],
   "source": [
    "plt.scatter(c,d)"
   ]
  },
  {
   "cell_type": "code",
   "execution_count": 144,
   "id": "d3e2bec5",
   "metadata": {},
   "outputs": [],
   "source": [
    "e=[]\n",
    "f=[]\n",
    "for i in earthquake_complete['geo_level_1_id'].unique():\n",
    "    df = earthquake_complete[earthquake_complete['geo_level_1_id'] == i]\n",
    "    e.append(i)\n",
    "    f.append(df['damage_grade'].mean())"
   ]
  },
  {
   "cell_type": "code",
   "execution_count": 145,
   "id": "c9b9eef2",
   "metadata": {},
   "outputs": [
    {
     "data": {
      "text/plain": [
       "<matplotlib.collections.PathCollection at 0x2a8fd7ea920>"
      ]
     },
     "execution_count": 145,
     "metadata": {},
     "output_type": "execute_result"
    },
    {
     "data": {
      "image/png": "[encoded data removed]",
      "text/plain": [
       "<Figure size 432x288 with 1 Axes>"
      ]
     },
     "metadata": {
      "needs_background": "light"
     },
     "output_type": "display_data"
    }
   ],
   "source": [
    "plt.scatter(e,f)"
   ]
  },
  {
   "cell_type": "markdown",
   "id": "3c156df3",
   "metadata": {},
   "source": [
    "## The scatter plots show that the geo_level_2_id has been the most intolerant to earthquakes as it has attained the most damage grade values, the maximum that is 3. Although the geo_level_3_id has the maximum number of buildings with the damage grade value as 1 but the number of buildings with damage grade value as 3 outweighs the otherwise. \n",
    "## The only geo_level_1_id can be declared as the least affected. The most of buildings fall under the average damage grade of 2.6 and the number of buildings is lesser comparitively to the other two."
   ]
  },
  {
   "cell_type": "markdown",
   "id": "0d6517fb",
   "metadata": {},
   "source": [
    "# Question 9: Are there any buildings that need to be demolished and have legal ownership?"
   ]
  },
  {
   "cell_type": "code",
   "execution_count": 146,
   "id": "0f667994",
   "metadata": {},
   "outputs": [
    {
     "data": {
      "text/plain": [
       "v    250939\n",
       "a      5512\n",
       "w      2677\n",
       "r      1473\n",
       "Name: legal_ownership_status, dtype: int64"
      ]
     },
     "execution_count": 146,
     "metadata": {},
     "output_type": "execute_result"
    }
   ],
   "source": [
    "earthquake_complete['legal_ownership_status'].value_counts()"
   ]
  },
  {
   "cell_type": "code",
   "execution_count": 147,
   "id": "08cde7f6",
   "metadata": {},
   "outputs": [
    {
     "name": "stdout",
     "output_type": "stream",
     "text": [
      "v\n",
      "2    0.570473\n",
      "3    0.336795\n",
      "1    0.092732\n",
      "Name: damage_grade, dtype: float64\n",
      "a\n",
      "2    0.557692\n",
      "1    0.274129\n",
      "3    0.168179\n",
      "Name: damage_grade, dtype: float64\n",
      "r\n",
      "2    0.493551\n",
      "3    0.361847\n",
      "1    0.144603\n",
      "Name: damage_grade, dtype: float64\n",
      "w\n",
      "2    0.487112\n",
      "3    0.464326\n",
      "1    0.048562\n",
      "Name: damage_grade, dtype: float64\n"
     ]
    }
   ],
   "source": [
    "for i in earthquake_complete['legal_ownership_status'].unique():\n",
    "    print(i)\n",
    "    print(earthquake_complete[earthquake_complete['legal_ownership_status'] == i]['damage_grade'].value_counts(normalize = True))"
   ]
  },
  {
   "cell_type": "markdown",
   "id": "530b84d3",
   "metadata": {},
   "source": [
    "## As its not clear by the categorical values of 'legal_ownership_status' data, one cannot justify which buildings are legally owned. Although assuming the government agencies would be knowing it, an analysis report is presented with correlation of buildings with all three damage_grade values for each type. \n",
    "## However, 'w' data-type has most buildings affected by earthquake as values range to 48.7112% for damage_grade valued 2 and 46.4326% for damage_grade valued 3.\n",
    "## Only 'a' data-type has most number of buildings with percentage 16.8179%."
   ]
  },
  {
   "cell_type": "markdown",
   "id": "8920baf9",
   "metadata": {},
   "source": [
    "# Chapter 4 CONCLUSION\n",
    "\n",
    "# Based on the analysis conducted, its clearly depicted that the tolernce to earthquake depends upon the type of construction materials used in foundation and super structure with keeping in sight the land surface condition and geo level.\n"
   ]
  },
  {
   "cell_type": "code",
   "execution_count": null,
   "id": "1ac2c38c",
   "metadata": {},
   "outputs": [],
   "source": []
  }
 ],
 "metadata": {
  "kernelspec": {
   "display_name": "Python 3 (ipykernel)",
   "language": "python",
   "name": "python3"
  },
  "language_info": {
   "codemirror_mode": {
    "name": "ipython",
    "version": 3
   },
   "file_extension": ".py",
   "mimetype": "text/x-python",
   "name": "python",
   "nbconvert_exporter": "python",
   "pygments_lexer": "ipython3",
   "version": "3.9.12"
  }
 },
 "nbformat": 4,
 "nbformat_minor": 5
}
